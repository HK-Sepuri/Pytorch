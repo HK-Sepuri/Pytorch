{
  "nbformat": 4,
  "nbformat_minor": 0,
  "metadata": {
    "colab": {
      "provenance": [],
      "gpuType": "T4"
    },
    "kernelspec": {
      "name": "python3",
      "display_name": "Python 3"
    },
    "language_info": {
      "name": "python"
    },
    "accelerator": "GPU",
    "widgets": {
      "application/vnd.jupyter.widget-state+json": {
        "ea90b0df90b24d0b9dddf6a3998964b3": {
          "model_module": "@jupyter-widgets/controls",
          "model_name": "HBoxModel",
          "model_module_version": "1.5.0",
          "state": {
            "_dom_classes": [],
            "_model_module": "@jupyter-widgets/controls",
            "_model_module_version": "1.5.0",
            "_model_name": "HBoxModel",
            "_view_count": null,
            "_view_module": "@jupyter-widgets/controls",
            "_view_module_version": "1.5.0",
            "_view_name": "HBoxView",
            "box_style": "",
            "children": [
              "IPY_MODEL_786a12b0b13845df8c344de9361d2f8c",
              "IPY_MODEL_23cd688c22de4dcc8c483e3acfdd94d4",
              "IPY_MODEL_d303d7fec0a0486c81da538f04b4ae11"
            ],
            "layout": "IPY_MODEL_d44ad324dc5142b38c7a3125e5ba0d2d"
          }
        },
        "786a12b0b13845df8c344de9361d2f8c": {
          "model_module": "@jupyter-widgets/controls",
          "model_name": "HTMLModel",
          "model_module_version": "1.5.0",
          "state": {
            "_dom_classes": [],
            "_model_module": "@jupyter-widgets/controls",
            "_model_module_version": "1.5.0",
            "_model_name": "HTMLModel",
            "_view_count": null,
            "_view_module": "@jupyter-widgets/controls",
            "_view_module_version": "1.5.0",
            "_view_name": "HTMLView",
            "description": "",
            "description_tooltip": null,
            "layout": "IPY_MODEL_d1f6068a8441486fafb8a70417622aeb",
            "placeholder": "​",
            "style": "IPY_MODEL_dddb9ae82dbb43208e98d0d85dcafe3d",
            "value": "100%"
          }
        },
        "23cd688c22de4dcc8c483e3acfdd94d4": {
          "model_module": "@jupyter-widgets/controls",
          "model_name": "FloatProgressModel",
          "model_module_version": "1.5.0",
          "state": {
            "_dom_classes": [],
            "_model_module": "@jupyter-widgets/controls",
            "_model_module_version": "1.5.0",
            "_model_name": "FloatProgressModel",
            "_view_count": null,
            "_view_module": "@jupyter-widgets/controls",
            "_view_module_version": "1.5.0",
            "_view_name": "ProgressView",
            "bar_style": "success",
            "description": "",
            "description_tooltip": null,
            "layout": "IPY_MODEL_eb950a3a495a4d088a5f7299be90aa46",
            "max": 5,
            "min": 0,
            "orientation": "horizontal",
            "style": "IPY_MODEL_a430855b26504ff6a2e5066db0ab6cf3",
            "value": 5
          }
        },
        "d303d7fec0a0486c81da538f04b4ae11": {
          "model_module": "@jupyter-widgets/controls",
          "model_name": "HTMLModel",
          "model_module_version": "1.5.0",
          "state": {
            "_dom_classes": [],
            "_model_module": "@jupyter-widgets/controls",
            "_model_module_version": "1.5.0",
            "_model_name": "HTMLModel",
            "_view_count": null,
            "_view_module": "@jupyter-widgets/controls",
            "_view_module_version": "1.5.0",
            "_view_name": "HTMLView",
            "description": "",
            "description_tooltip": null,
            "layout": "IPY_MODEL_9bd30667132345bfa4562f2635f1e7e1",
            "placeholder": "​",
            "style": "IPY_MODEL_e3069f5fc5d14efaa36aee2e4934d699",
            "value": " 5/5 [07:02&lt;00:00, 84.50s/it]"
          }
        },
        "d44ad324dc5142b38c7a3125e5ba0d2d": {
          "model_module": "@jupyter-widgets/base",
          "model_name": "LayoutModel",
          "model_module_version": "1.2.0",
          "state": {
            "_model_module": "@jupyter-widgets/base",
            "_model_module_version": "1.2.0",
            "_model_name": "LayoutModel",
            "_view_count": null,
            "_view_module": "@jupyter-widgets/base",
            "_view_module_version": "1.2.0",
            "_view_name": "LayoutView",
            "align_content": null,
            "align_items": null,
            "align_self": null,
            "border": null,
            "bottom": null,
            "display": null,
            "flex": null,
            "flex_flow": null,
            "grid_area": null,
            "grid_auto_columns": null,
            "grid_auto_flow": null,
            "grid_auto_rows": null,
            "grid_column": null,
            "grid_gap": null,
            "grid_row": null,
            "grid_template_areas": null,
            "grid_template_columns": null,
            "grid_template_rows": null,
            "height": null,
            "justify_content": null,
            "justify_items": null,
            "left": null,
            "margin": null,
            "max_height": null,
            "max_width": null,
            "min_height": null,
            "min_width": null,
            "object_fit": null,
            "object_position": null,
            "order": null,
            "overflow": null,
            "overflow_x": null,
            "overflow_y": null,
            "padding": null,
            "right": null,
            "top": null,
            "visibility": null,
            "width": null
          }
        },
        "d1f6068a8441486fafb8a70417622aeb": {
          "model_module": "@jupyter-widgets/base",
          "model_name": "LayoutModel",
          "model_module_version": "1.2.0",
          "state": {
            "_model_module": "@jupyter-widgets/base",
            "_model_module_version": "1.2.0",
            "_model_name": "LayoutModel",
            "_view_count": null,
            "_view_module": "@jupyter-widgets/base",
            "_view_module_version": "1.2.0",
            "_view_name": "LayoutView",
            "align_content": null,
            "align_items": null,
            "align_self": null,
            "border": null,
            "bottom": null,
            "display": null,
            "flex": null,
            "flex_flow": null,
            "grid_area": null,
            "grid_auto_columns": null,
            "grid_auto_flow": null,
            "grid_auto_rows": null,
            "grid_column": null,
            "grid_gap": null,
            "grid_row": null,
            "grid_template_areas": null,
            "grid_template_columns": null,
            "grid_template_rows": null,
            "height": null,
            "justify_content": null,
            "justify_items": null,
            "left": null,
            "margin": null,
            "max_height": null,
            "max_width": null,
            "min_height": null,
            "min_width": null,
            "object_fit": null,
            "object_position": null,
            "order": null,
            "overflow": null,
            "overflow_x": null,
            "overflow_y": null,
            "padding": null,
            "right": null,
            "top": null,
            "visibility": null,
            "width": null
          }
        },
        "dddb9ae82dbb43208e98d0d85dcafe3d": {
          "model_module": "@jupyter-widgets/controls",
          "model_name": "DescriptionStyleModel",
          "model_module_version": "1.5.0",
          "state": {
            "_model_module": "@jupyter-widgets/controls",
            "_model_module_version": "1.5.0",
            "_model_name": "DescriptionStyleModel",
            "_view_count": null,
            "_view_module": "@jupyter-widgets/base",
            "_view_module_version": "1.2.0",
            "_view_name": "StyleView",
            "description_width": ""
          }
        },
        "eb950a3a495a4d088a5f7299be90aa46": {
          "model_module": "@jupyter-widgets/base",
          "model_name": "LayoutModel",
          "model_module_version": "1.2.0",
          "state": {
            "_model_module": "@jupyter-widgets/base",
            "_model_module_version": "1.2.0",
            "_model_name": "LayoutModel",
            "_view_count": null,
            "_view_module": "@jupyter-widgets/base",
            "_view_module_version": "1.2.0",
            "_view_name": "LayoutView",
            "align_content": null,
            "align_items": null,
            "align_self": null,
            "border": null,
            "bottom": null,
            "display": null,
            "flex": null,
            "flex_flow": null,
            "grid_area": null,
            "grid_auto_columns": null,
            "grid_auto_flow": null,
            "grid_auto_rows": null,
            "grid_column": null,
            "grid_gap": null,
            "grid_row": null,
            "grid_template_areas": null,
            "grid_template_columns": null,
            "grid_template_rows": null,
            "height": null,
            "justify_content": null,
            "justify_items": null,
            "left": null,
            "margin": null,
            "max_height": null,
            "max_width": null,
            "min_height": null,
            "min_width": null,
            "object_fit": null,
            "object_position": null,
            "order": null,
            "overflow": null,
            "overflow_x": null,
            "overflow_y": null,
            "padding": null,
            "right": null,
            "top": null,
            "visibility": null,
            "width": null
          }
        },
        "a430855b26504ff6a2e5066db0ab6cf3": {
          "model_module": "@jupyter-widgets/controls",
          "model_name": "ProgressStyleModel",
          "model_module_version": "1.5.0",
          "state": {
            "_model_module": "@jupyter-widgets/controls",
            "_model_module_version": "1.5.0",
            "_model_name": "ProgressStyleModel",
            "_view_count": null,
            "_view_module": "@jupyter-widgets/base",
            "_view_module_version": "1.2.0",
            "_view_name": "StyleView",
            "bar_color": null,
            "description_width": ""
          }
        },
        "9bd30667132345bfa4562f2635f1e7e1": {
          "model_module": "@jupyter-widgets/base",
          "model_name": "LayoutModel",
          "model_module_version": "1.2.0",
          "state": {
            "_model_module": "@jupyter-widgets/base",
            "_model_module_version": "1.2.0",
            "_model_name": "LayoutModel",
            "_view_count": null,
            "_view_module": "@jupyter-widgets/base",
            "_view_module_version": "1.2.0",
            "_view_name": "LayoutView",
            "align_content": null,
            "align_items": null,
            "align_self": null,
            "border": null,
            "bottom": null,
            "display": null,
            "flex": null,
            "flex_flow": null,
            "grid_area": null,
            "grid_auto_columns": null,
            "grid_auto_flow": null,
            "grid_auto_rows": null,
            "grid_column": null,
            "grid_gap": null,
            "grid_row": null,
            "grid_template_areas": null,
            "grid_template_columns": null,
            "grid_template_rows": null,
            "height": null,
            "justify_content": null,
            "justify_items": null,
            "left": null,
            "margin": null,
            "max_height": null,
            "max_width": null,
            "min_height": null,
            "min_width": null,
            "object_fit": null,
            "object_position": null,
            "order": null,
            "overflow": null,
            "overflow_x": null,
            "overflow_y": null,
            "padding": null,
            "right": null,
            "top": null,
            "visibility": null,
            "width": null
          }
        },
        "e3069f5fc5d14efaa36aee2e4934d699": {
          "model_module": "@jupyter-widgets/controls",
          "model_name": "DescriptionStyleModel",
          "model_module_version": "1.5.0",
          "state": {
            "_model_module": "@jupyter-widgets/controls",
            "_model_module_version": "1.5.0",
            "_model_name": "DescriptionStyleModel",
            "_view_count": null,
            "_view_module": "@jupyter-widgets/base",
            "_view_module_version": "1.2.0",
            "_view_name": "StyleView",
            "description_width": ""
          }
        }
      }
    }
  },
  "cells": [
    {
      "cell_type": "code",
      "execution_count": 1,
      "metadata": {
        "id": "bbX5-35MYIyq"
      },
      "outputs": [],
      "source": [
        "Dataset_url = \"https://www.kaggle.com/datasets/jehanbhathena/weather-dataset\""
      ]
    },
    {
      "cell_type": "code",
      "source": [
        "# Upload Kaggle json file\n",
        "!mkdir ~/.kaggle/\n",
        "!cp kaggle.json ~/.kaggle/\n",
        "!chmod 600 ~/.kaggle/kaggle.json"
      ],
      "metadata": {
        "id": "Xng0ze7vYqf0"
      },
      "execution_count": 2,
      "outputs": []
    },
    {
      "cell_type": "code",
      "source": [
        "!kaggle datasets download -d jehanbhathena/weather-dataset"
      ],
      "metadata": {
        "colab": {
          "base_uri": "https://localhost:8080/"
        },
        "id": "YzlZkMAYYsa-",
        "outputId": "d715bafd-1e52-4656-c9b6-a965c0cb603f"
      },
      "execution_count": 3,
      "outputs": [
        {
          "output_type": "stream",
          "name": "stdout",
          "text": [
            "Dataset URL: https://www.kaggle.com/datasets/jehanbhathena/weather-dataset\n",
            "License(s): CC0-1.0\n",
            "Downloading weather-dataset.zip to /content\n",
            " 99% 580M/587M [00:02<00:00, 225MB/s]\n",
            "100% 587M/587M [00:03<00:00, 204MB/s]\n"
          ]
        }
      ]
    },
    {
      "cell_type": "code",
      "source": [
        "!unzip -q weather-dataset.zip"
      ],
      "metadata": {
        "id": "5JliCm76YuyO"
      },
      "execution_count": 4,
      "outputs": []
    },
    {
      "cell_type": "code",
      "source": [
        "# Import\n",
        "import os\n",
        "import torch\n",
        "import torch.nn as nn\n",
        "from torch.utils.data import DataLoader, Dataset, random_split\n",
        "from torchvision import datasets, transforms, models\n",
        "from PIL import Image\n",
        "from tqdm.auto import tqdm\n",
        "import time"
      ],
      "metadata": {
        "id": "CkwsDYRzY6cD"
      },
      "execution_count": 5,
      "outputs": []
    },
    {
      "cell_type": "code",
      "source": [
        "# Get cpu, gpu or mps device for training.\n",
        "device = (\n",
        "    \"cuda\"\n",
        "    if torch.cuda.is_available()\n",
        "    else \"mps\"\n",
        "    if torch.backends.mps.is_available()\n",
        "    else \"cpu\"\n",
        ")\n",
        "device"
      ],
      "metadata": {
        "colab": {
          "base_uri": "https://localhost:8080/",
          "height": 36
        },
        "id": "uTJNdSOXY8rs",
        "outputId": "6ef1dba3-cc2b-4f33-949d-fc0c61c9d4f2"
      },
      "execution_count": 6,
      "outputs": [
        {
          "output_type": "execute_result",
          "data": {
            "text/plain": [
              "'cuda'"
            ],
            "application/vnd.google.colaboratory.intrinsic+json": {
              "type": "string"
            }
          },
          "metadata": {},
          "execution_count": 6
        }
      ]
    },
    {
      "cell_type": "code",
      "source": [
        "# Define transformation for data augmentation or preprocessing\n",
        "transform = transforms.Compose([\n",
        "    transforms.Resize((255, 255)),\n",
        "    transforms.RandomResizedCrop(224),\n",
        "    transforms.RandomHorizontalFlip(),\n",
        "    transforms.RandomRotation(degrees=15),\n",
        "    transforms.ToTensor(),\n",
        "    transforms.Normalize(mean=[0.485, 0.456, 0.406], std=[0.229, 0.224, 0.225])\n",
        "])\n",
        "\n",
        "\n"
      ],
      "metadata": {
        "id": "U0WLvrf8Y-nv"
      },
      "execution_count": 7,
      "outputs": []
    },
    {
      "cell_type": "code",
      "source": [
        "class CustomImageDataset(Dataset):\n",
        "    def __init__(self, root_dir, transform=None):\n",
        "        self.root_dir = root_dir\n",
        "        self.transform = transform\n",
        "        self.samples = []\n",
        "\n",
        "        # Gather file paths of all images in the folders and their corresponding labels\n",
        "        for label, folder in enumerate(os.listdir(root_dir)):\n",
        "            folder_path = os.path.join(root_dir, folder)\n",
        "            if os.path.isdir(folder_path):\n",
        "                for file in os.listdir(folder_path):\n",
        "                  if file.lower().endswith(('.jpg', '.jpeg', '.png', '.bmp', '.webp')):\n",
        "                    self.samples.append((os.path.join(folder_path, file), label))\n",
        "\n",
        "    def __len__(self):\n",
        "        return len(self.samples)\n",
        "\n",
        "    def __getitem__(self, index):\n",
        "        try:\n",
        "            image_path, label = self.samples[index]\n",
        "            image = Image.open(image_path).convert('RGB')\n",
        "\n",
        "            if self.transform:\n",
        "                image = self.transform(image)\n",
        "\n",
        "            return image, label\n",
        "\n",
        "        except Exception as e:\n",
        "            # If there's an error opening or processing the image, print the error and return None\n",
        "            #print(f\"Error loading image: {image_path} - {e}\")\n",
        "            return self.__getitem__(index + 1)"
      ],
      "metadata": {
        "id": "XzUC0bYRZHS6"
      },
      "execution_count": 8,
      "outputs": []
    },
    {
      "cell_type": "code",
      "source": [
        "# Instantiate custom dataset\n",
        "root_dir = '/content/dataset'\n",
        "custom_dataset = CustomImageDataset(root_dir, transform=transform)"
      ],
      "metadata": {
        "id": "zjBa-SvcZNKs"
      },
      "execution_count": 9,
      "outputs": []
    },
    {
      "cell_type": "code",
      "source": [
        "len(custom_dataset)"
      ],
      "metadata": {
        "colab": {
          "base_uri": "https://localhost:8080/"
        },
        "id": "bAuQXCt5ZUe3",
        "outputId": "272693e7-1424-4658-ba6a-81ff82232ba0"
      },
      "execution_count": 10,
      "outputs": [
        {
          "output_type": "execute_result",
          "data": {
            "text/plain": [
              "6862"
            ]
          },
          "metadata": {},
          "execution_count": 10
        }
      ]
    },
    {
      "cell_type": "code",
      "source": [
        "# Define the size of the training set\n",
        "train_size = int(0.8 * len(custom_dataset))\n",
        "test_size = len(custom_dataset) - train_size\n",
        "\n",
        "# Split the dataset into training and testing sets\n",
        "train_dataset, test_dataset = torch.utils.data.random_split(custom_dataset, [train_size, test_size])\n",
        "\n",
        "len(train_dataset), len(test_dataset)"
      ],
      "metadata": {
        "colab": {
          "base_uri": "https://localhost:8080/"
        },
        "id": "i7gaT8I1ZWjg",
        "outputId": "468b4e1a-2cda-44f6-e791-6afd2aadb72e"
      },
      "execution_count": 11,
      "outputs": [
        {
          "output_type": "execute_result",
          "data": {
            "text/plain": [
              "(5489, 1373)"
            ]
          },
          "metadata": {},
          "execution_count": 11
        }
      ]
    },
    {
      "cell_type": "code",
      "source": [
        "# Define batch size for DataLoader\n",
        "batch_size = 4\n",
        "\n",
        "# Create DataLoader for training set\n",
        "train_loader = DataLoader(train_dataset, batch_size=batch_size, shuffle=True, drop_last = True)\n",
        "\n",
        "# Create DataLoader for testing set\n",
        "test_loader = DataLoader(test_dataset, batch_size=batch_size, shuffle=False)"
      ],
      "metadata": {
        "id": "EBCWJWwwZdGp"
      },
      "execution_count": 24,
      "outputs": []
    },
    {
      "cell_type": "code",
      "source": [
        "def train(dataloader, model, loss_fn, optimizer,device):\n",
        "    size = len(dataloader.dataset)\n",
        "    model.to(device)\n",
        "    model.train()\n",
        "    for batch, (X, y) in enumerate(dataloader):\n",
        "        X, y = X.to(device), y.to(device)\n",
        "\n",
        "        # Compute prediction error\n",
        "        pred = model(X)\n",
        "        loss = loss_fn(pred, y)\n",
        "\n",
        "        # Backpropagation\n",
        "        loss.backward()\n",
        "        optimizer.step()\n",
        "        optimizer.zero_grad()\n",
        "\n",
        "        if batch % 100 == 0:\n",
        "            loss, current = loss.item(), (batch + 1) * len(X)\n",
        "            print(f\"loss: {loss:>7f}  [{current:>5d}/{size:>5d}]\")"
      ],
      "metadata": {
        "id": "yUH_qkXoZfhD"
      },
      "execution_count": 25,
      "outputs": []
    },
    {
      "cell_type": "code",
      "source": [
        "def test(dataloader, model, loss_fn, device):\n",
        "    size = len(dataloader.dataset)\n",
        "    model.to(device)\n",
        "    num_batches = len(dataloader)\n",
        "    model.eval()\n",
        "    test_loss, correct = 0, 0\n",
        "    with torch.no_grad():\n",
        "        for X, y in dataloader:\n",
        "            X, y = X.to(device), y.to(device)\n",
        "            pred = model(X)\n",
        "            test_loss += loss_fn(pred, y).item()\n",
        "            correct += (pred.argmax(1) == y).type(torch.float).sum().item()\n",
        "    test_loss /= num_batches\n",
        "    correct /= size\n",
        "    print(f\"Test Error: \\n Accuracy: {(100*correct):>0.1f}%, Avg loss: {test_loss:>8f} \\n\")"
      ],
      "metadata": {
        "id": "vIn53PlmZhg2"
      },
      "execution_count": 26,
      "outputs": []
    },
    {
      "cell_type": "code",
      "source": [
        "# Create a convolutional neural network\n",
        "class DeeperCnnModel(nn.Module):\n",
        "\n",
        "    # Deeper model architecture inspired by TinyVGG.\n",
        "\n",
        "    def __init__(self, input_shape: int, hidden_units: int, output_shape: int):\n",
        "        super().__init__()\n",
        "        self.block_1 = nn.Sequential(\n",
        "            nn.Conv2d(in_channels=input_shape,\n",
        "                      out_channels=hidden_units,\n",
        "                      kernel_size=3,  # how big is the square that's going over the image?\n",
        "                      stride=1,  # default\n",
        "                      padding=1),  # options = \"valid\" (no padding) or \"same\" (output has same shape as input) or int for specific number\n",
        "            nn.ReLU(),\n",
        "            nn.Conv2d(in_channels=hidden_units,\n",
        "                      out_channels=hidden_units,\n",
        "                      kernel_size=3,\n",
        "                      stride=1,\n",
        "                      padding=1),\n",
        "            nn.ReLU(),\n",
        "            nn.MaxPool2d(kernel_size=2,\n",
        "                         stride=2),\n",
        "            nn.Dropout(0.2)\n",
        "        )\n",
        "        self.block_2 = nn.Sequential(\n",
        "            nn.Conv2d(hidden_units, hidden_units * 2, 3, padding=1),\n",
        "            nn.ReLU(),\n",
        "            nn.Conv2d(hidden_units * 2, hidden_units * 2, 3, padding=1),\n",
        "            nn.ReLU(),\n",
        "            nn.MaxPool2d(2),\n",
        "            nn.Dropout(0.2)\n",
        "        )\n",
        "        self.block_3 = nn.Sequential(\n",
        "            nn.Conv2d(hidden_units * 2, hidden_units * 4, 3, padding=1),\n",
        "            nn.ReLU(),\n",
        "            nn.Conv2d(hidden_units * 4, hidden_units * 4, 3, padding=1),\n",
        "            nn.ReLU(),\n",
        "            nn.MaxPool2d(2),\n",
        "            nn.Dropout(0.2)\n",
        "        )\n",
        "        self.block_4 = nn.Sequential(\n",
        "            nn.Conv2d(hidden_units * 4, hidden_units * 8, 3, padding=1),\n",
        "            nn.ReLU(),\n",
        "            nn.Conv2d(hidden_units * 8, hidden_units * 8, 3, padding=1),\n",
        "            nn.ReLU(),\n",
        "            nn.MaxPool2d(2),\n",
        "            nn.Dropout(0.2)\n",
        "        )\n",
        "        self.classifier = nn.Sequential(\n",
        "            nn.Flatten(),\n",
        "            nn.Linear(in_features=78400,  # Adjust according to the input image size and pooling layers\n",
        "                      out_features=hidden_units * 16),\n",
        "            nn.ReLU(),\n",
        "            nn.BatchNorm1d(hidden_units * 16),\n",
        "            nn.Linear(in_features=hidden_units * 16,\n",
        "                      out_features=hidden_units * 8),\n",
        "            nn.ReLU(),\n",
        "            nn.BatchNorm1d(hidden_units * 8),\n",
        "            nn.Linear(in_features=hidden_units * 8,\n",
        "                      out_features=hidden_units * 4),\n",
        "            nn.ReLU(),\n",
        "            nn.BatchNorm1d(hidden_units * 4),\n",
        "            nn.Linear(in_features=hidden_units * 4,\n",
        "                      out_features=output_shape),\n",
        "            nn.Softmax(dim=1)  # Add softmax layer\n",
        "        )\n",
        "\n",
        "    def forward(self, x: torch.Tensor):\n",
        "        x = self.block_1(x)\n",
        "        x = self.block_2(x)\n",
        "        x = self.block_3(x)\n",
        "        x = self.block_4(x)\n",
        "        x = self.classifier(x)\n",
        "        return x\n",
        "\n",
        "torch.manual_seed(23)\n",
        "model = DeeperCnnModel(input_shape=3,\n",
        "                       hidden_units=50,\n",
        "                       output_shape=11)\n",
        "\n",
        "# Summary of the model\n",
        "print(model)"
      ],
      "metadata": {
        "colab": {
          "base_uri": "https://localhost:8080/"
        },
        "id": "ENftRmw8Zjo0",
        "outputId": "b3c1fec6-9b5e-4c66-cc05-7a61531c4e7e"
      },
      "execution_count": 27,
      "outputs": [
        {
          "output_type": "stream",
          "name": "stdout",
          "text": [
            "DeeperCnnModel(\n",
            "  (block_1): Sequential(\n",
            "    (0): Conv2d(3, 50, kernel_size=(3, 3), stride=(1, 1), padding=(1, 1))\n",
            "    (1): ReLU()\n",
            "    (2): Conv2d(50, 50, kernel_size=(3, 3), stride=(1, 1), padding=(1, 1))\n",
            "    (3): ReLU()\n",
            "    (4): MaxPool2d(kernel_size=2, stride=2, padding=0, dilation=1, ceil_mode=False)\n",
            "    (5): Dropout(p=0.2, inplace=False)\n",
            "  )\n",
            "  (block_2): Sequential(\n",
            "    (0): Conv2d(50, 100, kernel_size=(3, 3), stride=(1, 1), padding=(1, 1))\n",
            "    (1): ReLU()\n",
            "    (2): Conv2d(100, 100, kernel_size=(3, 3), stride=(1, 1), padding=(1, 1))\n",
            "    (3): ReLU()\n",
            "    (4): MaxPool2d(kernel_size=2, stride=2, padding=0, dilation=1, ceil_mode=False)\n",
            "    (5): Dropout(p=0.2, inplace=False)\n",
            "  )\n",
            "  (block_3): Sequential(\n",
            "    (0): Conv2d(100, 200, kernel_size=(3, 3), stride=(1, 1), padding=(1, 1))\n",
            "    (1): ReLU()\n",
            "    (2): Conv2d(200, 200, kernel_size=(3, 3), stride=(1, 1), padding=(1, 1))\n",
            "    (3): ReLU()\n",
            "    (4): MaxPool2d(kernel_size=2, stride=2, padding=0, dilation=1, ceil_mode=False)\n",
            "    (5): Dropout(p=0.2, inplace=False)\n",
            "  )\n",
            "  (block_4): Sequential(\n",
            "    (0): Conv2d(200, 400, kernel_size=(3, 3), stride=(1, 1), padding=(1, 1))\n",
            "    (1): ReLU()\n",
            "    (2): Conv2d(400, 400, kernel_size=(3, 3), stride=(1, 1), padding=(1, 1))\n",
            "    (3): ReLU()\n",
            "    (4): MaxPool2d(kernel_size=2, stride=2, padding=0, dilation=1, ceil_mode=False)\n",
            "    (5): Dropout(p=0.2, inplace=False)\n",
            "  )\n",
            "  (classifier): Sequential(\n",
            "    (0): Flatten(start_dim=1, end_dim=-1)\n",
            "    (1): Linear(in_features=78400, out_features=800, bias=True)\n",
            "    (2): ReLU()\n",
            "    (3): BatchNorm1d(800, eps=1e-05, momentum=0.1, affine=True, track_running_stats=True)\n",
            "    (4): Linear(in_features=800, out_features=400, bias=True)\n",
            "    (5): ReLU()\n",
            "    (6): BatchNorm1d(400, eps=1e-05, momentum=0.1, affine=True, track_running_stats=True)\n",
            "    (7): Linear(in_features=400, out_features=200, bias=True)\n",
            "    (8): ReLU()\n",
            "    (9): BatchNorm1d(200, eps=1e-05, momentum=0.1, affine=True, track_running_stats=True)\n",
            "    (10): Linear(in_features=200, out_features=11, bias=True)\n",
            "    (11): Softmax(dim=1)\n",
            "  )\n",
            ")\n"
          ]
        }
      ]
    },
    {
      "cell_type": "code",
      "source": [
        "# Setup loss and optimizer\n",
        "loss_fn = nn.CrossEntropyLoss()\n",
        "optimizer = torch.optim.SGD(params=model.parameters(),\n",
        "                             lr=1e-4)"
      ],
      "metadata": {
        "id": "TY8mOVghZtv0"
      },
      "execution_count": 32,
      "outputs": []
    },
    {
      "cell_type": "code",
      "source": [
        "from tqdm.auto import tqdm\n",
        "import time\n",
        "start_time = time.time()\n",
        "\n",
        "\n",
        "# Train and test model\n",
        "epochs = 5\n",
        "for epoch in tqdm(range(epochs)):\n",
        "    print(f\"Epoch: {epoch}\\n---------\")\n",
        "    train(train_loader, model, loss_fn, optimizer,device)\n",
        "    test(test_loader, model, loss_fn,device)\n",
        "\n",
        "current_time = time.time()\n",
        "total = current_time - start_time\n",
        "print(\"Done!\")\n",
        "print(f'Training Took: {total/60} minutes!')"
      ],
      "metadata": {
        "colab": {
          "base_uri": "https://localhost:8080/",
          "height": 1000,
          "referenced_widgets": [
            "ea90b0df90b24d0b9dddf6a3998964b3",
            "786a12b0b13845df8c344de9361d2f8c",
            "23cd688c22de4dcc8c483e3acfdd94d4",
            "d303d7fec0a0486c81da538f04b4ae11",
            "d44ad324dc5142b38c7a3125e5ba0d2d",
            "d1f6068a8441486fafb8a70417622aeb",
            "dddb9ae82dbb43208e98d0d85dcafe3d",
            "eb950a3a495a4d088a5f7299be90aa46",
            "a430855b26504ff6a2e5066db0ab6cf3",
            "9bd30667132345bfa4562f2635f1e7e1",
            "e3069f5fc5d14efaa36aee2e4934d699"
          ]
        },
        "id": "y1LDFibeZ6-K",
        "outputId": "febfa6f9-5da5-420c-8ff9-07487cbe6029"
      },
      "execution_count": 33,
      "outputs": [
        {
          "output_type": "display_data",
          "data": {
            "text/plain": [
              "  0%|          | 0/5 [00:00<?, ?it/s]"
            ],
            "application/vnd.jupyter.widget-view+json": {
              "version_major": 2,
              "version_minor": 0,
              "model_id": "ea90b0df90b24d0b9dddf6a3998964b3"
            }
          },
          "metadata": {}
        },
        {
          "output_type": "stream",
          "name": "stdout",
          "text": [
            "Epoch: 0\n",
            "---------\n",
            "loss: 1.818604  [    4/ 5489]\n",
            "loss: 2.228086  [  404/ 5489]\n",
            "loss: 2.165209  [  804/ 5489]\n",
            "loss: 2.222356  [ 1204/ 5489]\n",
            "loss: 2.532373  [ 1604/ 5489]\n",
            "loss: 2.532059  [ 2004/ 5489]\n",
            "loss: 2.452021  [ 2404/ 5489]\n",
            "loss: 2.486551  [ 2804/ 5489]\n",
            "loss: 2.272977  [ 3204/ 5489]\n",
            "loss: 2.271206  [ 3604/ 5489]\n",
            "loss: 2.276207  [ 4004/ 5489]\n",
            "loss: 1.943467  [ 4404/ 5489]\n",
            "loss: 1.803722  [ 4804/ 5489]\n",
            "loss: 2.280109  [ 5204/ 5489]\n",
            "Test Error: \n",
            " Accuracy: 34.7%, Avg loss: 2.196459 \n",
            "\n",
            "Epoch: 1\n",
            "---------\n",
            "loss: 2.260381  [    4/ 5489]\n",
            "loss: 2.053766  [  404/ 5489]\n",
            "loss: 2.363287  [  804/ 5489]\n",
            "loss: 2.278893  [ 1204/ 5489]\n",
            "loss: 2.322383  [ 1604/ 5489]\n",
            "loss: 2.516241  [ 2004/ 5489]\n",
            "loss: 2.503463  [ 2404/ 5489]\n",
            "loss: 2.013679  [ 2804/ 5489]\n",
            "loss: 2.094459  [ 3204/ 5489]\n",
            "loss: 2.288945  [ 3604/ 5489]\n",
            "loss: 2.029299  [ 4004/ 5489]\n",
            "loss: 2.247892  [ 4404/ 5489]\n",
            "loss: 2.395879  [ 4804/ 5489]\n",
            "loss: 2.177980  [ 5204/ 5489]\n",
            "Test Error: \n",
            " Accuracy: 36.4%, Avg loss: 2.186208 \n",
            "\n",
            "Epoch: 2\n",
            "---------\n",
            "loss: 2.261352  [    4/ 5489]\n",
            "loss: 2.490067  [  404/ 5489]\n",
            "loss: 1.876692  [  804/ 5489]\n",
            "loss: 2.026418  [ 1204/ 5489]\n",
            "loss: 2.273733  [ 1604/ 5489]\n",
            "loss: 2.083226  [ 2004/ 5489]\n",
            "loss: 2.216297  [ 2404/ 5489]\n",
            "loss: 2.519685  [ 2804/ 5489]\n",
            "loss: 2.457849  [ 3204/ 5489]\n",
            "loss: 1.934718  [ 3604/ 5489]\n",
            "loss: 2.506784  [ 4004/ 5489]\n",
            "loss: 2.054106  [ 4404/ 5489]\n",
            "loss: 2.475728  [ 4804/ 5489]\n",
            "loss: 2.013847  [ 5204/ 5489]\n",
            "Test Error: \n",
            " Accuracy: 35.1%, Avg loss: 2.195610 \n",
            "\n",
            "Epoch: 3\n",
            "---------\n",
            "loss: 1.888201  [    4/ 5489]\n",
            "loss: 2.272369  [  404/ 5489]\n",
            "loss: 2.218828  [  804/ 5489]\n",
            "loss: 2.534933  [ 1204/ 5489]\n",
            "loss: 2.274652  [ 1604/ 5489]\n",
            "loss: 2.392465  [ 2004/ 5489]\n",
            "loss: 2.496493  [ 2404/ 5489]\n",
            "loss: 2.463339  [ 2804/ 5489]\n",
            "loss: 2.194012  [ 3204/ 5489]\n",
            "loss: 2.253269  [ 3604/ 5489]\n",
            "loss: 2.508887  [ 4004/ 5489]\n",
            "loss: 2.227841  [ 4404/ 5489]\n",
            "loss: 2.373770  [ 4804/ 5489]\n",
            "loss: 2.526479  [ 5204/ 5489]\n",
            "Test Error: \n",
            " Accuracy: 36.1%, Avg loss: 2.191382 \n",
            "\n",
            "Epoch: 4\n",
            "---------\n",
            "loss: 2.339388  [    4/ 5489]\n",
            "loss: 2.275472  [  404/ 5489]\n",
            "loss: 1.814835  [  804/ 5489]\n",
            "loss: 1.737778  [ 1204/ 5489]\n",
            "loss: 2.524765  [ 1604/ 5489]\n",
            "loss: 2.531142  [ 2004/ 5489]\n",
            "loss: 2.281107  [ 2404/ 5489]\n",
            "loss: 2.532982  [ 2804/ 5489]\n",
            "loss: 2.277507  [ 3204/ 5489]\n",
            "loss: 2.146381  [ 3604/ 5489]\n",
            "loss: 2.063308  [ 4004/ 5489]\n",
            "loss: 2.299731  [ 4404/ 5489]\n",
            "loss: 2.253166  [ 4804/ 5489]\n",
            "loss: 1.889188  [ 5204/ 5489]\n",
            "Test Error: \n",
            " Accuracy: 34.7%, Avg loss: 2.203816 \n",
            "\n",
            "Done!\n",
            "Training Took: 7.046007498105367 minutes!\n"
          ]
        }
      ]
    },
    {
      "cell_type": "code",
      "source": [],
      "metadata": {
        "id": "24trfRxfcg02"
      },
      "execution_count": null,
      "outputs": []
    }
  ]
}