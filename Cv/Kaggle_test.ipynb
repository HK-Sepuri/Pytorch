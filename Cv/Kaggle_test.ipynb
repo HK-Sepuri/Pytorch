{
  "nbformat": 4,
  "nbformat_minor": 0,
  "metadata": {
    "colab": {
      "provenance": [],
      "gpuType": "T4"
    },
    "kernelspec": {
      "name": "python3",
      "display_name": "Python 3"
    },
    "language_info": {
      "name": "python"
    },
    "accelerator": "GPU",
    "widgets": {
      "application/vnd.jupyter.widget-state+json": {
        "df6ff0ff5cb74a438c29af0186935ec6": {
          "model_module": "@jupyter-widgets/controls",
          "model_name": "HBoxModel",
          "model_module_version": "1.5.0",
          "state": {
            "_dom_classes": [],
            "_model_module": "@jupyter-widgets/controls",
            "_model_module_version": "1.5.0",
            "_model_name": "HBoxModel",
            "_view_count": null,
            "_view_module": "@jupyter-widgets/controls",
            "_view_module_version": "1.5.0",
            "_view_name": "HBoxView",
            "box_style": "",
            "children": [
              "IPY_MODEL_bdba02e5b8614cb0a82387308ecf9638",
              "IPY_MODEL_2ef917af468f4002ab5d869744817c58",
              "IPY_MODEL_93c394bde13d497596d3e1bc14bcf6b0"
            ],
            "layout": "IPY_MODEL_bbd6c6bcad63401e9b0c3fc958684b04"
          }
        },
        "bdba02e5b8614cb0a82387308ecf9638": {
          "model_module": "@jupyter-widgets/controls",
          "model_name": "HTMLModel",
          "model_module_version": "1.5.0",
          "state": {
            "_dom_classes": [],
            "_model_module": "@jupyter-widgets/controls",
            "_model_module_version": "1.5.0",
            "_model_name": "HTMLModel",
            "_view_count": null,
            "_view_module": "@jupyter-widgets/controls",
            "_view_module_version": "1.5.0",
            "_view_name": "HTMLView",
            "description": "",
            "description_tooltip": null,
            "layout": "IPY_MODEL_5bb4a848746b42989971114ee88196c4",
            "placeholder": "​",
            "style": "IPY_MODEL_ba98d71875b04a3b82b4eb3ac26dc5f8",
            "value": "100%"
          }
        },
        "2ef917af468f4002ab5d869744817c58": {
          "model_module": "@jupyter-widgets/controls",
          "model_name": "FloatProgressModel",
          "model_module_version": "1.5.0",
          "state": {
            "_dom_classes": [],
            "_model_module": "@jupyter-widgets/controls",
            "_model_module_version": "1.5.0",
            "_model_name": "FloatProgressModel",
            "_view_count": null,
            "_view_module": "@jupyter-widgets/controls",
            "_view_module_version": "1.5.0",
            "_view_name": "ProgressView",
            "bar_style": "success",
            "description": "",
            "description_tooltip": null,
            "layout": "IPY_MODEL_2240417431c349b3b17ebf91b686c8a9",
            "max": 10,
            "min": 0,
            "orientation": "horizontal",
            "style": "IPY_MODEL_2a340338679f4550b322c04b0aa0824b",
            "value": 10
          }
        },
        "93c394bde13d497596d3e1bc14bcf6b0": {
          "model_module": "@jupyter-widgets/controls",
          "model_name": "HTMLModel",
          "model_module_version": "1.5.0",
          "state": {
            "_dom_classes": [],
            "_model_module": "@jupyter-widgets/controls",
            "_model_module_version": "1.5.0",
            "_model_name": "HTMLModel",
            "_view_count": null,
            "_view_module": "@jupyter-widgets/controls",
            "_view_module_version": "1.5.0",
            "_view_name": "HTMLView",
            "description": "",
            "description_tooltip": null,
            "layout": "IPY_MODEL_9ea14b2536284a4e9b0c39f7629f7bcc",
            "placeholder": "​",
            "style": "IPY_MODEL_21bc54cd9a3f4881a059c588aef1173b",
            "value": " 10/10 [24:07&lt;00:00, 144.72s/it]"
          }
        },
        "bbd6c6bcad63401e9b0c3fc958684b04": {
          "model_module": "@jupyter-widgets/base",
          "model_name": "LayoutModel",
          "model_module_version": "1.2.0",
          "state": {
            "_model_module": "@jupyter-widgets/base",
            "_model_module_version": "1.2.0",
            "_model_name": "LayoutModel",
            "_view_count": null,
            "_view_module": "@jupyter-widgets/base",
            "_view_module_version": "1.2.0",
            "_view_name": "LayoutView",
            "align_content": null,
            "align_items": null,
            "align_self": null,
            "border": null,
            "bottom": null,
            "display": null,
            "flex": null,
            "flex_flow": null,
            "grid_area": null,
            "grid_auto_columns": null,
            "grid_auto_flow": null,
            "grid_auto_rows": null,
            "grid_column": null,
            "grid_gap": null,
            "grid_row": null,
            "grid_template_areas": null,
            "grid_template_columns": null,
            "grid_template_rows": null,
            "height": null,
            "justify_content": null,
            "justify_items": null,
            "left": null,
            "margin": null,
            "max_height": null,
            "max_width": null,
            "min_height": null,
            "min_width": null,
            "object_fit": null,
            "object_position": null,
            "order": null,
            "overflow": null,
            "overflow_x": null,
            "overflow_y": null,
            "padding": null,
            "right": null,
            "top": null,
            "visibility": null,
            "width": null
          }
        },
        "5bb4a848746b42989971114ee88196c4": {
          "model_module": "@jupyter-widgets/base",
          "model_name": "LayoutModel",
          "model_module_version": "1.2.0",
          "state": {
            "_model_module": "@jupyter-widgets/base",
            "_model_module_version": "1.2.0",
            "_model_name": "LayoutModel",
            "_view_count": null,
            "_view_module": "@jupyter-widgets/base",
            "_view_module_version": "1.2.0",
            "_view_name": "LayoutView",
            "align_content": null,
            "align_items": null,
            "align_self": null,
            "border": null,
            "bottom": null,
            "display": null,
            "flex": null,
            "flex_flow": null,
            "grid_area": null,
            "grid_auto_columns": null,
            "grid_auto_flow": null,
            "grid_auto_rows": null,
            "grid_column": null,
            "grid_gap": null,
            "grid_row": null,
            "grid_template_areas": null,
            "grid_template_columns": null,
            "grid_template_rows": null,
            "height": null,
            "justify_content": null,
            "justify_items": null,
            "left": null,
            "margin": null,
            "max_height": null,
            "max_width": null,
            "min_height": null,
            "min_width": null,
            "object_fit": null,
            "object_position": null,
            "order": null,
            "overflow": null,
            "overflow_x": null,
            "overflow_y": null,
            "padding": null,
            "right": null,
            "top": null,
            "visibility": null,
            "width": null
          }
        },
        "ba98d71875b04a3b82b4eb3ac26dc5f8": {
          "model_module": "@jupyter-widgets/controls",
          "model_name": "DescriptionStyleModel",
          "model_module_version": "1.5.0",
          "state": {
            "_model_module": "@jupyter-widgets/controls",
            "_model_module_version": "1.5.0",
            "_model_name": "DescriptionStyleModel",
            "_view_count": null,
            "_view_module": "@jupyter-widgets/base",
            "_view_module_version": "1.2.0",
            "_view_name": "StyleView",
            "description_width": ""
          }
        },
        "2240417431c349b3b17ebf91b686c8a9": {
          "model_module": "@jupyter-widgets/base",
          "model_name": "LayoutModel",
          "model_module_version": "1.2.0",
          "state": {
            "_model_module": "@jupyter-widgets/base",
            "_model_module_version": "1.2.0",
            "_model_name": "LayoutModel",
            "_view_count": null,
            "_view_module": "@jupyter-widgets/base",
            "_view_module_version": "1.2.0",
            "_view_name": "LayoutView",
            "align_content": null,
            "align_items": null,
            "align_self": null,
            "border": null,
            "bottom": null,
            "display": null,
            "flex": null,
            "flex_flow": null,
            "grid_area": null,
            "grid_auto_columns": null,
            "grid_auto_flow": null,
            "grid_auto_rows": null,
            "grid_column": null,
            "grid_gap": null,
            "grid_row": null,
            "grid_template_areas": null,
            "grid_template_columns": null,
            "grid_template_rows": null,
            "height": null,
            "justify_content": null,
            "justify_items": null,
            "left": null,
            "margin": null,
            "max_height": null,
            "max_width": null,
            "min_height": null,
            "min_width": null,
            "object_fit": null,
            "object_position": null,
            "order": null,
            "overflow": null,
            "overflow_x": null,
            "overflow_y": null,
            "padding": null,
            "right": null,
            "top": null,
            "visibility": null,
            "width": null
          }
        },
        "2a340338679f4550b322c04b0aa0824b": {
          "model_module": "@jupyter-widgets/controls",
          "model_name": "ProgressStyleModel",
          "model_module_version": "1.5.0",
          "state": {
            "_model_module": "@jupyter-widgets/controls",
            "_model_module_version": "1.5.0",
            "_model_name": "ProgressStyleModel",
            "_view_count": null,
            "_view_module": "@jupyter-widgets/base",
            "_view_module_version": "1.2.0",
            "_view_name": "StyleView",
            "bar_color": null,
            "description_width": ""
          }
        },
        "9ea14b2536284a4e9b0c39f7629f7bcc": {
          "model_module": "@jupyter-widgets/base",
          "model_name": "LayoutModel",
          "model_module_version": "1.2.0",
          "state": {
            "_model_module": "@jupyter-widgets/base",
            "_model_module_version": "1.2.0",
            "_model_name": "LayoutModel",
            "_view_count": null,
            "_view_module": "@jupyter-widgets/base",
            "_view_module_version": "1.2.0",
            "_view_name": "LayoutView",
            "align_content": null,
            "align_items": null,
            "align_self": null,
            "border": null,
            "bottom": null,
            "display": null,
            "flex": null,
            "flex_flow": null,
            "grid_area": null,
            "grid_auto_columns": null,
            "grid_auto_flow": null,
            "grid_auto_rows": null,
            "grid_column": null,
            "grid_gap": null,
            "grid_row": null,
            "grid_template_areas": null,
            "grid_template_columns": null,
            "grid_template_rows": null,
            "height": null,
            "justify_content": null,
            "justify_items": null,
            "left": null,
            "margin": null,
            "max_height": null,
            "max_width": null,
            "min_height": null,
            "min_width": null,
            "object_fit": null,
            "object_position": null,
            "order": null,
            "overflow": null,
            "overflow_x": null,
            "overflow_y": null,
            "padding": null,
            "right": null,
            "top": null,
            "visibility": null,
            "width": null
          }
        },
        "21bc54cd9a3f4881a059c588aef1173b": {
          "model_module": "@jupyter-widgets/controls",
          "model_name": "DescriptionStyleModel",
          "model_module_version": "1.5.0",
          "state": {
            "_model_module": "@jupyter-widgets/controls",
            "_model_module_version": "1.5.0",
            "_model_name": "DescriptionStyleModel",
            "_view_count": null,
            "_view_module": "@jupyter-widgets/base",
            "_view_module_version": "1.2.0",
            "_view_name": "StyleView",
            "description_width": ""
          }
        }
      }
    }
  },
  "cells": [
    {
      "cell_type": "code",
      "execution_count": 1,
      "metadata": {
        "id": "E8Av7To41a_V"
      },
      "outputs": [],
      "source": [
        "Dataset_url = \"https://www.kaggle.com/datasets/paultimothymooney/chest-xray-pneumonia\""
      ]
    },
    {
      "cell_type": "code",
      "source": [
        "# Upload Kaggle json file\n",
        "!mkdir ~/.kaggle/\n",
        "!cp kaggle.json ~/.kaggle/\n",
        "!chmod 600 ~/.kaggle/kaggle.json"
      ],
      "metadata": {
        "id": "XPK_VCHF1lhR"
      },
      "execution_count": 2,
      "outputs": []
    },
    {
      "cell_type": "code",
      "source": [
        "!kaggle datasets download -d paultimothymooney/chest-xray-pneumonia"
      ],
      "metadata": {
        "colab": {
          "base_uri": "https://localhost:8080/"
        },
        "id": "ggGolmCn2sSL",
        "outputId": "560c465a-994e-4162-8d8e-2e4455bedb79"
      },
      "execution_count": 3,
      "outputs": [
        {
          "output_type": "stream",
          "name": "stdout",
          "text": [
            "Dataset URL: https://www.kaggle.com/datasets/paultimothymooney/chest-xray-pneumonia\n",
            "License(s): other\n",
            "Downloading chest-xray-pneumonia.zip to /content\n",
            "100% 2.29G/2.29G [01:33<00:00, 27.5MB/s]\n",
            "100% 2.29G/2.29G [01:33<00:00, 26.4MB/s]\n"
          ]
        }
      ]
    },
    {
      "cell_type": "code",
      "source": [
        "!unzip -q chest-xray-pneumonia.zip"
      ],
      "metadata": {
        "id": "B5fvumsX2v-i"
      },
      "execution_count": 4,
      "outputs": []
    },
    {
      "cell_type": "code",
      "source": [
        "# Import\n",
        "import os\n",
        "import torch\n",
        "import torch.nn as nn\n",
        "from torch.utils.data import DataLoader, Dataset, random_split\n",
        "from torchvision import datasets, transforms, models\n",
        "from PIL import Image\n",
        "from tqdm.auto import tqdm\n",
        "import time"
      ],
      "metadata": {
        "id": "ys58U6ZM311G"
      },
      "execution_count": 5,
      "outputs": []
    },
    {
      "cell_type": "code",
      "source": [
        "# Get cpu, gpu or mps device for training.\n",
        "device = (\n",
        "    \"cuda\"\n",
        "    if torch.cuda.is_available()\n",
        "    else \"mps\"\n",
        "    if torch.backends.mps.is_available()\n",
        "    else \"cpu\"\n",
        ")\n",
        "device"
      ],
      "metadata": {
        "colab": {
          "base_uri": "https://localhost:8080/",
          "height": 36
        },
        "id": "2DPVPb37335N",
        "outputId": "c4b72598-7ec5-49a5-c508-788510d54c6a"
      },
      "execution_count": 6,
      "outputs": [
        {
          "output_type": "execute_result",
          "data": {
            "text/plain": [
              "'cuda'"
            ],
            "application/vnd.google.colaboratory.intrinsic+json": {
              "type": "string"
            }
          },
          "metadata": {},
          "execution_count": 6
        }
      ]
    },
    {
      "cell_type": "code",
      "source": [
        "train_transform = transforms.Compose([transforms.Resize((255, 255)),\n",
        "                                      transforms.AutoAugment(),\n",
        "                                      transforms.ToTensor(),\n",
        "                                      transforms.RandomRotation(degrees=10),\n",
        "                                      transforms.RandomHorizontalFlip(p=0.5),\n",
        "                                      transforms.Normalize(mean=[0.485, 0.456, 0.406],\n",
        "                                                           std=[0.229, 0.224, 0.225]),\n",
        "                                     ])\n",
        "\n",
        "transform = transforms.Compose([transforms.Resize((255, 255)),\n",
        "                                transforms.ToTensor(),\n",
        "                                transforms.Normalize(mean=[0.485, 0.456, 0.406],\n",
        "                                                     std=[0.229, 0.224, 0.225])])"
      ],
      "metadata": {
        "id": "9dX4oVDuDAj-"
      },
      "execution_count": 7,
      "outputs": []
    },
    {
      "cell_type": "code",
      "source": [
        "class CustomDataset(Dataset):\n",
        "    def __init__(self, root_dir, split='train', transform=None):\n",
        "        self.root_dir = root_dir\n",
        "        self.split = split  # 'train', 'test', or 'val'\n",
        "        self.transform = transform\n",
        "        self.classes = sorted(os.listdir(os.path.join(root_dir, 'train')))\n",
        "        self.class_to_idx = {cls_name: idx for idx, cls_name in enumerate(self.classes)}\n",
        "        self.samples = self._load_samples()\n",
        "\n",
        "    def _load_samples(self):\n",
        "        samples = []\n",
        "        split_path = os.path.join(self.root_dir, self.split)\n",
        "        for cls_name in self.classes:\n",
        "            cls_path = os.path.join(split_path, cls_name)\n",
        "            class_idx = self.class_to_idx[cls_name]\n",
        "            for file_name in os.listdir(cls_path):\n",
        "                if file_name.endswith(('.jpg', '.jpeg', '.png')):\n",
        "                    file_path = os.path.join(cls_path, file_name)\n",
        "                    samples.append((file_path, class_idx))\n",
        "        return samples\n",
        "\n",
        "    def __len__(self):\n",
        "        return len(self.samples)\n",
        "\n",
        "    def __getitem__(self, index):\n",
        "        image_path, label = self.samples[index]\n",
        "        image = Image.open(image_path).convert('RGB')\n",
        "\n",
        "        if self.transform:\n",
        "            image = self.transform(image)\n",
        "\n",
        "        return image, label"
      ],
      "metadata": {
        "id": "h7AaO4YiDixT"
      },
      "execution_count": 8,
      "outputs": []
    },
    {
      "cell_type": "code",
      "source": [
        "root_dir = '/content/chest_xray/'"
      ],
      "metadata": {
        "id": "Bnz7OaXdDKlA"
      },
      "execution_count": 9,
      "outputs": []
    },
    {
      "cell_type": "code",
      "source": [
        "# Example of creating instances of your custom dataset\n",
        "train_dataset = CustomDataset(root_dir=root_dir, split='train', transform=train_transform)\n",
        "test_dataset = CustomDataset(root_dir=root_dir, split='test', transform=transform)\n",
        "val_dataset = CustomDataset(root_dir=root_dir, split='val', transform=transform)"
      ],
      "metadata": {
        "id": "8lzFdm2PGVrq"
      },
      "execution_count": 10,
      "outputs": []
    },
    {
      "cell_type": "code",
      "source": [
        "len(train_dataset),len(test_dataset),len(val_dataset)"
      ],
      "metadata": {
        "colab": {
          "base_uri": "https://localhost:8080/"
        },
        "id": "Du8kepsfFLVD",
        "outputId": "fbd277da-da9f-47ed-bd40-0edcc0d170cf"
      },
      "execution_count": 11,
      "outputs": [
        {
          "output_type": "execute_result",
          "data": {
            "text/plain": [
              "(5216, 624, 16)"
            ]
          },
          "metadata": {},
          "execution_count": 11
        }
      ]
    },
    {
      "cell_type": "code",
      "source": [
        "# Define batch size for DataLoader\n",
        "batch_size = 16\n",
        "\n",
        "train_loader = DataLoader(train_dataset, batch_size=batch_size, shuffle=True, drop_last = True)\n",
        "test_dataloader = DataLoader(test_dataset, batch_size=batch_size, shuffle=False)\n",
        "val_dataloader = DataLoader(val_dataset, batch_size=batch_size, shuffle=False)"
      ],
      "metadata": {
        "id": "KU75KHwWKdy8"
      },
      "execution_count": 12,
      "outputs": []
    },
    {
      "cell_type": "code",
      "source": [
        "import torch.nn.functional as F\n",
        "class ResidualBlock(nn.Module):\n",
        "    def __init__(self, in_channels, out_channels, stride=1):\n",
        "        super(ResidualBlock, self).__init__()\n",
        "        self.conv1 = nn.Conv2d(in_channels, out_channels, kernel_size=3, stride=stride, padding=1)\n",
        "        self.bn1 = nn.BatchNorm2d(out_channels)\n",
        "        self.conv2 = nn.Conv2d(out_channels, out_channels, kernel_size=3, stride=1, padding=1)\n",
        "        self.bn2 = nn.BatchNorm2d(out_channels)\n",
        "\n",
        "        self.shortcut = nn.Sequential()\n",
        "        if stride != 1 or in_channels != out_channels:\n",
        "            self.shortcut = nn.Sequential(\n",
        "                nn.Conv2d(in_channels, out_channels, kernel_size=1, stride=stride),\n",
        "                nn.BatchNorm2d(out_channels)\n",
        "            )\n",
        "\n",
        "    def forward(self, x):\n",
        "        out = F.relu(self.bn1(self.conv1(x)))\n",
        "        out = self.bn2(self.conv2(out))\n",
        "        out += self.shortcut(x)\n",
        "        out = F.relu(out)\n",
        "        return out\n",
        "\n",
        "class ResNet(nn.Module):\n",
        "    def __init__(self, input_shape, hidden_units, output_shape):\n",
        "        super(ResNet, self).__init__()\n",
        "        self.initial_conv = nn.Conv2d(in_channels=input_shape, out_channels=hidden_units, kernel_size=3, stride=1, padding=1)\n",
        "        self.initial_bn = nn.BatchNorm2d(hidden_units)\n",
        "        self.initial_relu = nn.ReLU()\n",
        "        self.initial_pool = nn.MaxPool2d(kernel_size=2, stride=2)\n",
        "\n",
        "        self.layer1 = self._make_layer(hidden_units, hidden_units, stride=1)\n",
        "        self.layer2 = self._make_layer(hidden_units, hidden_units, stride=2)\n",
        "\n",
        "        self.classifier = nn.Sequential(\n",
        "            nn.Flatten(),\n",
        "            nn.Linear(204800, hidden_units * 10),\n",
        "            nn.ReLU(),\n",
        "            nn.BatchNorm1d(hidden_units * 10),\n",
        "            nn.Linear(hidden_units * 10, hidden_units * 5),\n",
        "            nn.ReLU(),\n",
        "            nn.BatchNorm1d(hidden_units * 5),\n",
        "            nn.Linear(hidden_units * 5, hidden_units),\n",
        "            nn.ReLU(),\n",
        "            nn.BatchNorm1d(hidden_units),\n",
        "            nn.Linear(hidden_units, output_shape),\n",
        "            nn.Softmax(dim=1)\n",
        "        )\n",
        "\n",
        "    def _make_layer(self, in_channels, out_channels, stride):\n",
        "        layer = ResidualBlock(in_channels, out_channels, stride)\n",
        "        return layer\n",
        "\n",
        "    def forward(self, x):\n",
        "        x = self.initial_conv(x)\n",
        "        x = self.initial_bn(x)\n",
        "        x = self.initial_relu(x)\n",
        "        x = self.initial_pool(x)\n",
        "\n",
        "        x = self.layer1(x)\n",
        "        x = self.layer2(x)\n",
        "\n",
        "        x = self.classifier(x)\n",
        "        return x\n",
        "\n",
        "torch.manual_seed(23)\n",
        "model = ResNet(input_shape=3, hidden_units=50, output_shape=2)\n",
        "model"
      ],
      "metadata": {
        "colab": {
          "base_uri": "https://localhost:8080/"
        },
        "id": "-L1xIMbGKlot",
        "outputId": "317b7708-a209-4793-8381-7dc2562e7b78"
      },
      "execution_count": 13,
      "outputs": [
        {
          "output_type": "execute_result",
          "data": {
            "text/plain": [
              "ResNet(\n",
              "  (initial_conv): Conv2d(3, 50, kernel_size=(3, 3), stride=(1, 1), padding=(1, 1))\n",
              "  (initial_bn): BatchNorm2d(50, eps=1e-05, momentum=0.1, affine=True, track_running_stats=True)\n",
              "  (initial_relu): ReLU()\n",
              "  (initial_pool): MaxPool2d(kernel_size=2, stride=2, padding=0, dilation=1, ceil_mode=False)\n",
              "  (layer1): ResidualBlock(\n",
              "    (conv1): Conv2d(50, 50, kernel_size=(3, 3), stride=(1, 1), padding=(1, 1))\n",
              "    (bn1): BatchNorm2d(50, eps=1e-05, momentum=0.1, affine=True, track_running_stats=True)\n",
              "    (conv2): Conv2d(50, 50, kernel_size=(3, 3), stride=(1, 1), padding=(1, 1))\n",
              "    (bn2): BatchNorm2d(50, eps=1e-05, momentum=0.1, affine=True, track_running_stats=True)\n",
              "    (shortcut): Sequential()\n",
              "  )\n",
              "  (layer2): ResidualBlock(\n",
              "    (conv1): Conv2d(50, 50, kernel_size=(3, 3), stride=(2, 2), padding=(1, 1))\n",
              "    (bn1): BatchNorm2d(50, eps=1e-05, momentum=0.1, affine=True, track_running_stats=True)\n",
              "    (conv2): Conv2d(50, 50, kernel_size=(3, 3), stride=(1, 1), padding=(1, 1))\n",
              "    (bn2): BatchNorm2d(50, eps=1e-05, momentum=0.1, affine=True, track_running_stats=True)\n",
              "    (shortcut): Sequential(\n",
              "      (0): Conv2d(50, 50, kernel_size=(1, 1), stride=(2, 2))\n",
              "      (1): BatchNorm2d(50, eps=1e-05, momentum=0.1, affine=True, track_running_stats=True)\n",
              "    )\n",
              "  )\n",
              "  (classifier): Sequential(\n",
              "    (0): Flatten(start_dim=1, end_dim=-1)\n",
              "    (1): Linear(in_features=204800, out_features=500, bias=True)\n",
              "    (2): ReLU()\n",
              "    (3): BatchNorm1d(500, eps=1e-05, momentum=0.1, affine=True, track_running_stats=True)\n",
              "    (4): Linear(in_features=500, out_features=250, bias=True)\n",
              "    (5): ReLU()\n",
              "    (6): BatchNorm1d(250, eps=1e-05, momentum=0.1, affine=True, track_running_stats=True)\n",
              "    (7): Linear(in_features=250, out_features=50, bias=True)\n",
              "    (8): ReLU()\n",
              "    (9): BatchNorm1d(50, eps=1e-05, momentum=0.1, affine=True, track_running_stats=True)\n",
              "    (10): Linear(in_features=50, out_features=2, bias=True)\n",
              "    (11): Softmax(dim=1)\n",
              "  )\n",
              ")"
            ]
          },
          "metadata": {},
          "execution_count": 13
        }
      ]
    },
    {
      "cell_type": "code",
      "source": [
        "from torch.optim.lr_scheduler import StepLR\n",
        "# Setup loss and optimizer\n",
        "loss_fn = nn.CrossEntropyLoss()\n",
        "optimizer = torch.optim.SGD(params=model.parameters(),\n",
        "                             lr=1e-4)\n",
        "scheduler = StepLR(optimizer, step_size=7, gamma=0.1)"
      ],
      "metadata": {
        "id": "V9xP82rrK0AC"
      },
      "execution_count": 14,
      "outputs": []
    },
    {
      "cell_type": "code",
      "source": [
        "def train(train_dataloader, val_dataloader, model, loss_fn, optimizer, scheduler, device):\n",
        "    model.to(device)\n",
        "    model.train()\n",
        "    train_loss = 0.0\n",
        "    correct = 0\n",
        "    for batch_idx, (X_train, y_train) in enumerate(train_dataloader):\n",
        "        X_train, y_train = X_train.to(device), y_train.to(device)\n",
        "\n",
        "        # Forward pass\n",
        "        optimizer.zero_grad()\n",
        "        outputs = model(X_train)\n",
        "        loss = loss_fn(outputs, y_train)\n",
        "        train_loss += loss.item()\n",
        "\n",
        "        # Backward pass and optimize\n",
        "        loss.backward()\n",
        "        optimizer.step()\n",
        "\n",
        "        # Track the accuracy\n",
        "        _, predicted = torch.max(outputs.data, 1)\n",
        "        correct += (predicted == y_train).sum().item()\n",
        "\n",
        "        # Print training progress\n",
        "        if batch_idx % 100 == 0:\n",
        "            print(f'Train Epoch: {epoch+1} [{batch_idx * len(X_train)}/{len(train_dataloader.dataset)} '\n",
        "                  f'({100. * batch_idx / len(train_dataloader):.0f}%)]\\tLoss: {loss.item():.6f}')\n",
        "\n",
        "    train_loss /= len(train_dataloader.dataset)\n",
        "    accuracy = 100. * correct / len(train_dataloader.dataset)\n",
        "    print(f'Train Epoch: {epoch+1}\\t Average Loss: {train_loss:.6f}, Accuracy: {accuracy:.2f}%')\n",
        "\n",
        "    # Validation phase\n",
        "    model.eval()\n",
        "    val_loss = 0.0\n",
        "    correct = 0\n",
        "    with torch.no_grad():\n",
        "        for X_val, y_val in val_dataloader:\n",
        "            X_val, y_val = X_val.to(device), y_val.to(device)\n",
        "            outputs = model(X_val)\n",
        "            loss = loss_fn(outputs, y_val)\n",
        "            val_loss += loss.item()\n",
        "\n",
        "            # Track the accuracy\n",
        "            _, predicted = torch.max(outputs.data, 1)\n",
        "            correct += (predicted == y_val).sum().item()\n",
        "\n",
        "    val_loss /= len(val_dataloader.dataset)\n",
        "    accuracy = 100. * correct / len(val_dataloader.dataset)\n",
        "    print(f'Validation Epoch: {epoch+1}\\t Average Loss: {val_loss:.6f}, Accuracy: {accuracy:.2f}%')\n",
        "\n",
        "    # Adjust learning rate\n",
        "    scheduler.step()\n"
      ],
      "metadata": {
        "id": "AbmuE2btLIjz"
      },
      "execution_count": 18,
      "outputs": []
    },
    {
      "cell_type": "code",
      "source": [
        "def test(dataloader, model, loss_fn, device):\n",
        "    size = len(dataloader.dataset)\n",
        "    model.to(device)\n",
        "    num_batches = len(dataloader)\n",
        "    model.eval()\n",
        "    test_loss, correct = 0, 0\n",
        "    with torch.no_grad():\n",
        "        for X, y in dataloader:\n",
        "            X, y = X.to(device), y.to(device)\n",
        "            pred = model(X)\n",
        "            test_loss += loss_fn(pred, y).item()\n",
        "            correct += (pred.argmax(1) == y).type(torch.float).sum().item()\n",
        "    test_loss /= num_batches\n",
        "    correct /= size\n",
        "    print(f\"Test Error: \\n Accuracy: {(100*correct):>0.1f}%, Avg loss: {test_loss:>8f} \\n\")"
      ],
      "metadata": {
        "id": "XUhC8BdmLWOi"
      },
      "execution_count": 19,
      "outputs": []
    },
    {
      "cell_type": "code",
      "source": [
        "from tqdm.auto import tqdm\n",
        "import time\n",
        "start_time = time.time()\n",
        "\n",
        "\n",
        "# Train and test model\n",
        "epochs = 10\n",
        "for epoch in tqdm(range(epochs)):\n",
        "    print(f\"Epoch: {epoch}\\n---------\")\n",
        "    train(train_loader,val_dataloader, model, loss_fn, optimizer, scheduler, device)\n",
        "    test(test_dataloader, model, loss_fn,device)\n",
        "\n",
        "current_time = time.time()\n",
        "total = current_time - start_time\n",
        "print(\"Done!\")\n",
        "print(f'Training Took: {total/60} minutes!')"
      ],
      "metadata": {
        "colab": {
          "base_uri": "https://localhost:8080/",
          "height": 1000,
          "referenced_widgets": [
            "df6ff0ff5cb74a438c29af0186935ec6",
            "bdba02e5b8614cb0a82387308ecf9638",
            "2ef917af468f4002ab5d869744817c58",
            "93c394bde13d497596d3e1bc14bcf6b0",
            "bbd6c6bcad63401e9b0c3fc958684b04",
            "5bb4a848746b42989971114ee88196c4",
            "ba98d71875b04a3b82b4eb3ac26dc5f8",
            "2240417431c349b3b17ebf91b686c8a9",
            "2a340338679f4550b322c04b0aa0824b",
            "9ea14b2536284a4e9b0c39f7629f7bcc",
            "21bc54cd9a3f4881a059c588aef1173b"
          ]
        },
        "id": "4LQA2m0oLY-E",
        "outputId": "f6e4b3d2-c655-46ab-8bef-96fca52287ba"
      },
      "execution_count": 20,
      "outputs": [
        {
          "output_type": "display_data",
          "data": {
            "text/plain": [
              "  0%|          | 0/10 [00:00<?, ?it/s]"
            ],
            "application/vnd.jupyter.widget-view+json": {
              "version_major": 2,
              "version_minor": 0,
              "model_id": "df6ff0ff5cb74a438c29af0186935ec6"
            }
          },
          "metadata": {}
        },
        {
          "output_type": "stream",
          "name": "stdout",
          "text": [
            "Epoch: 0\n",
            "---------\n",
            "Train Epoch: 1 [0/5216 (0%)]\tLoss: 0.493591\n",
            "Train Epoch: 1 [1600/5216 (31%)]\tLoss: 0.373296\n",
            "Train Epoch: 1 [3200/5216 (61%)]\tLoss: 0.376931\n",
            "Train Epoch: 1 [4800/5216 (92%)]\tLoss: 0.417899\n",
            "Train Epoch: 1\t Average Loss: 0.031791, Accuracy: 83.07%\n",
            "Validation Epoch: 1\t Average Loss: 0.032537, Accuracy: 81.25%\n",
            "Test Error: \n",
            " Accuracy: 81.9%, Avg loss: 0.518218 \n",
            "\n",
            "Epoch: 1\n",
            "---------\n",
            "Train Epoch: 2 [0/5216 (0%)]\tLoss: 0.500857\n",
            "Train Epoch: 2 [1600/5216 (31%)]\tLoss: 0.627720\n",
            "Train Epoch: 2 [3200/5216 (61%)]\tLoss: 0.506828\n",
            "Train Epoch: 2 [4800/5216 (92%)]\tLoss: 0.507069\n",
            "Train Epoch: 2\t Average Loss: 0.031095, Accuracy: 84.68%\n",
            "Validation Epoch: 2\t Average Loss: 0.032227, Accuracy: 81.25%\n",
            "Test Error: \n",
            " Accuracy: 81.4%, Avg loss: 0.509005 \n",
            "\n",
            "Epoch: 2\n",
            "---------\n",
            "Train Epoch: 3 [0/5216 (0%)]\tLoss: 0.536709\n",
            "Train Epoch: 3 [1600/5216 (31%)]\tLoss: 0.403003\n",
            "Train Epoch: 3 [3200/5216 (61%)]\tLoss: 0.500839\n",
            "Train Epoch: 3 [4800/5216 (92%)]\tLoss: 0.533968\n",
            "Train Epoch: 3\t Average Loss: 0.030721, Accuracy: 85.01%\n",
            "Validation Epoch: 3\t Average Loss: 0.032807, Accuracy: 87.50%\n",
            "Test Error: \n",
            " Accuracy: 81.2%, Avg loss: 0.505370 \n",
            "\n",
            "Epoch: 3\n",
            "---------\n",
            "Train Epoch: 4 [0/5216 (0%)]\tLoss: 0.674226\n",
            "Train Epoch: 4 [1600/5216 (31%)]\tLoss: 0.445888\n",
            "Train Epoch: 4 [3200/5216 (61%)]\tLoss: 0.543941\n",
            "Train Epoch: 4 [4800/5216 (92%)]\tLoss: 0.425073\n",
            "Train Epoch: 4\t Average Loss: 0.029921, Accuracy: 87.33%\n",
            "Validation Epoch: 4\t Average Loss: 0.032332, Accuracy: 81.25%\n",
            "Test Error: \n",
            " Accuracy: 81.9%, Avg loss: 0.511029 \n",
            "\n",
            "Epoch: 4\n",
            "---------\n",
            "Train Epoch: 5 [0/5216 (0%)]\tLoss: 0.426168\n",
            "Train Epoch: 5 [1600/5216 (31%)]\tLoss: 0.420748\n",
            "Train Epoch: 5 [3200/5216 (61%)]\tLoss: 0.432807\n",
            "Train Epoch: 5 [4800/5216 (92%)]\tLoss: 0.499885\n",
            "Train Epoch: 5\t Average Loss: 0.029915, Accuracy: 86.83%\n",
            "Validation Epoch: 5\t Average Loss: 0.032462, Accuracy: 81.25%\n",
            "Test Error: \n",
            " Accuracy: 80.3%, Avg loss: 0.511243 \n",
            "\n",
            "Epoch: 5\n",
            "---------\n",
            "Train Epoch: 6 [0/5216 (0%)]\tLoss: 0.453800\n",
            "Train Epoch: 6 [1600/5216 (31%)]\tLoss: 0.477678\n",
            "Train Epoch: 6 [3200/5216 (61%)]\tLoss: 0.507685\n",
            "Train Epoch: 6 [4800/5216 (92%)]\tLoss: 0.461591\n",
            "Train Epoch: 6\t Average Loss: 0.030060, Accuracy: 86.64%\n",
            "Validation Epoch: 6\t Average Loss: 0.032236, Accuracy: 81.25%\n",
            "Test Error: \n",
            " Accuracy: 82.2%, Avg loss: 0.511345 \n",
            "\n",
            "Epoch: 6\n",
            "---------\n",
            "Train Epoch: 7 [0/5216 (0%)]\tLoss: 0.607586\n",
            "Train Epoch: 7 [1600/5216 (31%)]\tLoss: 0.540087\n",
            "Train Epoch: 7 [3200/5216 (61%)]\tLoss: 0.574115\n",
            "Train Epoch: 7 [4800/5216 (92%)]\tLoss: 0.418579\n",
            "Train Epoch: 7\t Average Loss: 0.030005, Accuracy: 86.68%\n",
            "Validation Epoch: 7\t Average Loss: 0.032275, Accuracy: 81.25%\n",
            "Test Error: \n",
            " Accuracy: 81.2%, Avg loss: 0.506470 \n",
            "\n",
            "Epoch: 7\n",
            "---------\n",
            "Train Epoch: 8 [0/5216 (0%)]\tLoss: 0.469239\n",
            "Train Epoch: 8 [1600/5216 (31%)]\tLoss: 0.452962\n",
            "Train Epoch: 8 [3200/5216 (61%)]\tLoss: 0.494761\n",
            "Train Epoch: 8 [4800/5216 (92%)]\tLoss: 0.536722\n",
            "Train Epoch: 8\t Average Loss: 0.030010, Accuracy: 86.33%\n",
            "Validation Epoch: 8\t Average Loss: 0.031680, Accuracy: 87.50%\n",
            "Test Error: \n",
            " Accuracy: 81.1%, Avg loss: 0.504266 \n",
            "\n",
            "Epoch: 8\n",
            "---------\n",
            "Train Epoch: 9 [0/5216 (0%)]\tLoss: 0.395936\n",
            "Train Epoch: 9 [1600/5216 (31%)]\tLoss: 0.402396\n",
            "Train Epoch: 9 [3200/5216 (61%)]\tLoss: 0.552122\n",
            "Train Epoch: 9 [4800/5216 (92%)]\tLoss: 0.381317\n",
            "Train Epoch: 9\t Average Loss: 0.029800, Accuracy: 86.91%\n",
            "Validation Epoch: 9\t Average Loss: 0.031908, Accuracy: 81.25%\n",
            "Test Error: \n",
            " Accuracy: 82.1%, Avg loss: 0.509665 \n",
            "\n",
            "Epoch: 9\n",
            "---------\n",
            "Train Epoch: 10 [0/5216 (0%)]\tLoss: 0.517173\n",
            "Train Epoch: 10 [1600/5216 (31%)]\tLoss: 0.379385\n",
            "Train Epoch: 10 [3200/5216 (61%)]\tLoss: 0.485203\n",
            "Train Epoch: 10 [4800/5216 (92%)]\tLoss: 0.425399\n",
            "Train Epoch: 10\t Average Loss: 0.029645, Accuracy: 87.33%\n",
            "Validation Epoch: 10\t Average Loss: 0.032487, Accuracy: 87.50%\n",
            "Test Error: \n",
            " Accuracy: 81.6%, Avg loss: 0.509353 \n",
            "\n",
            "Done!\n",
            "Training Took: 24.128119683265687 minutes!\n"
          ]
        }
      ]
    },
    {
      "cell_type": "code",
      "source": [],
      "metadata": {
        "id": "7fTrt7e3MMWq"
      },
      "execution_count": null,
      "outputs": []
    }
  ]
}