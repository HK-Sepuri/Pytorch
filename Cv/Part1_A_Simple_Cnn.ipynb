{
  "nbformat": 4,
  "nbformat_minor": 0,
  "metadata": {
    "colab": {
      "provenance": [],
      "gpuType": "T4"
    },
    "kernelspec": {
      "name": "python3",
      "display_name": "Python 3"
    },
    "language_info": {
      "name": "python"
    },
    "accelerator": "GPU",
    "widgets": {
      "application/vnd.jupyter.widget-state+json": {
        "cf7fe2dfbf974b9c9027dcaa343f45b6": {
          "model_module": "@jupyter-widgets/controls",
          "model_name": "HBoxModel",
          "model_module_version": "1.5.0",
          "state": {
            "_dom_classes": [],
            "_model_module": "@jupyter-widgets/controls",
            "_model_module_version": "1.5.0",
            "_model_name": "HBoxModel",
            "_view_count": null,
            "_view_module": "@jupyter-widgets/controls",
            "_view_module_version": "1.5.0",
            "_view_name": "HBoxView",
            "box_style": "",
            "children": [
              "IPY_MODEL_7fdfa8cbfc704701949bd5fee48e45d6",
              "IPY_MODEL_1592a0a948404c62b63d0895716cf2df",
              "IPY_MODEL_4e7dc528472147429d12cbc45862a54b"
            ],
            "layout": "IPY_MODEL_dbc18d53a21c45fb8ac37f291d716740"
          }
        },
        "7fdfa8cbfc704701949bd5fee48e45d6": {
          "model_module": "@jupyter-widgets/controls",
          "model_name": "HTMLModel",
          "model_module_version": "1.5.0",
          "state": {
            "_dom_classes": [],
            "_model_module": "@jupyter-widgets/controls",
            "_model_module_version": "1.5.0",
            "_model_name": "HTMLModel",
            "_view_count": null,
            "_view_module": "@jupyter-widgets/controls",
            "_view_module_version": "1.5.0",
            "_view_name": "HTMLView",
            "description": "",
            "description_tooltip": null,
            "layout": "IPY_MODEL_7f4aa74bbfe84e1788c1d7062187bfa7",
            "placeholder": "​",
            "style": "IPY_MODEL_9e10cc3607ca4f54859c45b0bb6911ee",
            "value": "100%"
          }
        },
        "1592a0a948404c62b63d0895716cf2df": {
          "model_module": "@jupyter-widgets/controls",
          "model_name": "FloatProgressModel",
          "model_module_version": "1.5.0",
          "state": {
            "_dom_classes": [],
            "_model_module": "@jupyter-widgets/controls",
            "_model_module_version": "1.5.0",
            "_model_name": "FloatProgressModel",
            "_view_count": null,
            "_view_module": "@jupyter-widgets/controls",
            "_view_module_version": "1.5.0",
            "_view_name": "ProgressView",
            "bar_style": "success",
            "description": "",
            "description_tooltip": null,
            "layout": "IPY_MODEL_d3334dd13e49435fa6329dcec871d45b",
            "max": 10,
            "min": 0,
            "orientation": "horizontal",
            "style": "IPY_MODEL_a06fea3d196c498c8ba8fd963399e289",
            "value": 10
          }
        },
        "4e7dc528472147429d12cbc45862a54b": {
          "model_module": "@jupyter-widgets/controls",
          "model_name": "HTMLModel",
          "model_module_version": "1.5.0",
          "state": {
            "_dom_classes": [],
            "_model_module": "@jupyter-widgets/controls",
            "_model_module_version": "1.5.0",
            "_model_name": "HTMLModel",
            "_view_count": null,
            "_view_module": "@jupyter-widgets/controls",
            "_view_module_version": "1.5.0",
            "_view_name": "HTMLView",
            "description": "",
            "description_tooltip": null,
            "layout": "IPY_MODEL_f0a730e6b481449cb467da32b8bb1efa",
            "placeholder": "​",
            "style": "IPY_MODEL_30f2f1a146e945edbbec04c062f827ad",
            "value": " 10/10 [21:41&lt;00:00, 129.55s/it]"
          }
        },
        "dbc18d53a21c45fb8ac37f291d716740": {
          "model_module": "@jupyter-widgets/base",
          "model_name": "LayoutModel",
          "model_module_version": "1.2.0",
          "state": {
            "_model_module": "@jupyter-widgets/base",
            "_model_module_version": "1.2.0",
            "_model_name": "LayoutModel",
            "_view_count": null,
            "_view_module": "@jupyter-widgets/base",
            "_view_module_version": "1.2.0",
            "_view_name": "LayoutView",
            "align_content": null,
            "align_items": null,
            "align_self": null,
            "border": null,
            "bottom": null,
            "display": null,
            "flex": null,
            "flex_flow": null,
            "grid_area": null,
            "grid_auto_columns": null,
            "grid_auto_flow": null,
            "grid_auto_rows": null,
            "grid_column": null,
            "grid_gap": null,
            "grid_row": null,
            "grid_template_areas": null,
            "grid_template_columns": null,
            "grid_template_rows": null,
            "height": null,
            "justify_content": null,
            "justify_items": null,
            "left": null,
            "margin": null,
            "max_height": null,
            "max_width": null,
            "min_height": null,
            "min_width": null,
            "object_fit": null,
            "object_position": null,
            "order": null,
            "overflow": null,
            "overflow_x": null,
            "overflow_y": null,
            "padding": null,
            "right": null,
            "top": null,
            "visibility": null,
            "width": null
          }
        },
        "7f4aa74bbfe84e1788c1d7062187bfa7": {
          "model_module": "@jupyter-widgets/base",
          "model_name": "LayoutModel",
          "model_module_version": "1.2.0",
          "state": {
            "_model_module": "@jupyter-widgets/base",
            "_model_module_version": "1.2.0",
            "_model_name": "LayoutModel",
            "_view_count": null,
            "_view_module": "@jupyter-widgets/base",
            "_view_module_version": "1.2.0",
            "_view_name": "LayoutView",
            "align_content": null,
            "align_items": null,
            "align_self": null,
            "border": null,
            "bottom": null,
            "display": null,
            "flex": null,
            "flex_flow": null,
            "grid_area": null,
            "grid_auto_columns": null,
            "grid_auto_flow": null,
            "grid_auto_rows": null,
            "grid_column": null,
            "grid_gap": null,
            "grid_row": null,
            "grid_template_areas": null,
            "grid_template_columns": null,
            "grid_template_rows": null,
            "height": null,
            "justify_content": null,
            "justify_items": null,
            "left": null,
            "margin": null,
            "max_height": null,
            "max_width": null,
            "min_height": null,
            "min_width": null,
            "object_fit": null,
            "object_position": null,
            "order": null,
            "overflow": null,
            "overflow_x": null,
            "overflow_y": null,
            "padding": null,
            "right": null,
            "top": null,
            "visibility": null,
            "width": null
          }
        },
        "9e10cc3607ca4f54859c45b0bb6911ee": {
          "model_module": "@jupyter-widgets/controls",
          "model_name": "DescriptionStyleModel",
          "model_module_version": "1.5.0",
          "state": {
            "_model_module": "@jupyter-widgets/controls",
            "_model_module_version": "1.5.0",
            "_model_name": "DescriptionStyleModel",
            "_view_count": null,
            "_view_module": "@jupyter-widgets/base",
            "_view_module_version": "1.2.0",
            "_view_name": "StyleView",
            "description_width": ""
          }
        },
        "d3334dd13e49435fa6329dcec871d45b": {
          "model_module": "@jupyter-widgets/base",
          "model_name": "LayoutModel",
          "model_module_version": "1.2.0",
          "state": {
            "_model_module": "@jupyter-widgets/base",
            "_model_module_version": "1.2.0",
            "_model_name": "LayoutModel",
            "_view_count": null,
            "_view_module": "@jupyter-widgets/base",
            "_view_module_version": "1.2.0",
            "_view_name": "LayoutView",
            "align_content": null,
            "align_items": null,
            "align_self": null,
            "border": null,
            "bottom": null,
            "display": null,
            "flex": null,
            "flex_flow": null,
            "grid_area": null,
            "grid_auto_columns": null,
            "grid_auto_flow": null,
            "grid_auto_rows": null,
            "grid_column": null,
            "grid_gap": null,
            "grid_row": null,
            "grid_template_areas": null,
            "grid_template_columns": null,
            "grid_template_rows": null,
            "height": null,
            "justify_content": null,
            "justify_items": null,
            "left": null,
            "margin": null,
            "max_height": null,
            "max_width": null,
            "min_height": null,
            "min_width": null,
            "object_fit": null,
            "object_position": null,
            "order": null,
            "overflow": null,
            "overflow_x": null,
            "overflow_y": null,
            "padding": null,
            "right": null,
            "top": null,
            "visibility": null,
            "width": null
          }
        },
        "a06fea3d196c498c8ba8fd963399e289": {
          "model_module": "@jupyter-widgets/controls",
          "model_name": "ProgressStyleModel",
          "model_module_version": "1.5.0",
          "state": {
            "_model_module": "@jupyter-widgets/controls",
            "_model_module_version": "1.5.0",
            "_model_name": "ProgressStyleModel",
            "_view_count": null,
            "_view_module": "@jupyter-widgets/base",
            "_view_module_version": "1.2.0",
            "_view_name": "StyleView",
            "bar_color": null,
            "description_width": ""
          }
        },
        "f0a730e6b481449cb467da32b8bb1efa": {
          "model_module": "@jupyter-widgets/base",
          "model_name": "LayoutModel",
          "model_module_version": "1.2.0",
          "state": {
            "_model_module": "@jupyter-widgets/base",
            "_model_module_version": "1.2.0",
            "_model_name": "LayoutModel",
            "_view_count": null,
            "_view_module": "@jupyter-widgets/base",
            "_view_module_version": "1.2.0",
            "_view_name": "LayoutView",
            "align_content": null,
            "align_items": null,
            "align_self": null,
            "border": null,
            "bottom": null,
            "display": null,
            "flex": null,
            "flex_flow": null,
            "grid_area": null,
            "grid_auto_columns": null,
            "grid_auto_flow": null,
            "grid_auto_rows": null,
            "grid_column": null,
            "grid_gap": null,
            "grid_row": null,
            "grid_template_areas": null,
            "grid_template_columns": null,
            "grid_template_rows": null,
            "height": null,
            "justify_content": null,
            "justify_items": null,
            "left": null,
            "margin": null,
            "max_height": null,
            "max_width": null,
            "min_height": null,
            "min_width": null,
            "object_fit": null,
            "object_position": null,
            "order": null,
            "overflow": null,
            "overflow_x": null,
            "overflow_y": null,
            "padding": null,
            "right": null,
            "top": null,
            "visibility": null,
            "width": null
          }
        },
        "30f2f1a146e945edbbec04c062f827ad": {
          "model_module": "@jupyter-widgets/controls",
          "model_name": "DescriptionStyleModel",
          "model_module_version": "1.5.0",
          "state": {
            "_model_module": "@jupyter-widgets/controls",
            "_model_module_version": "1.5.0",
            "_model_name": "DescriptionStyleModel",
            "_view_count": null,
            "_view_module": "@jupyter-widgets/base",
            "_view_module_version": "1.2.0",
            "_view_name": "StyleView",
            "description_width": ""
          }
        }
      }
    }
  },
  "cells": [
    {
      "cell_type": "code",
      "execution_count": 1,
      "metadata": {
        "id": "7_DZxb4DqCQr"
      },
      "outputs": [],
      "source": [
        "Dataset_url = \"https://www.kaggle.com/datasets/tongpython/cat-and-dog\""
      ]
    },
    {
      "cell_type": "code",
      "source": [
        "# Upload Kaggle json file\n",
        "!mkdir ~/.kaggle/\n",
        "!cp kaggle.json ~/.kaggle/\n",
        "!chmod 600 ~/.kaggle/kaggle.json"
      ],
      "metadata": {
        "id": "IBblqBhZqoEc"
      },
      "execution_count": 2,
      "outputs": []
    },
    {
      "cell_type": "code",
      "source": [
        "!kaggle datasets download -d tongpython/cat-and-dog"
      ],
      "metadata": {
        "colab": {
          "base_uri": "https://localhost:8080/"
        },
        "id": "uLmoxkQQqqdr",
        "outputId": "9fba5640-d14b-4d36-f3ce-a1c8cd3841c0"
      },
      "execution_count": 3,
      "outputs": [
        {
          "output_type": "stream",
          "name": "stdout",
          "text": [
            "Dataset URL: https://www.kaggle.com/datasets/tongpython/cat-and-dog\n",
            "License(s): CC0-1.0\n",
            "Downloading cat-and-dog.zip to /content\n",
            " 92% 201M/218M [00:01<00:00, 153MB/s]\n",
            "100% 218M/218M [00:01<00:00, 130MB/s]\n"
          ]
        }
      ]
    },
    {
      "cell_type": "code",
      "source": [
        "!unzip -q cat-and-dog.zip"
      ],
      "metadata": {
        "collapsed": true,
        "id": "fs54pg66qzYd"
      },
      "execution_count": 4,
      "outputs": []
    },
    {
      "cell_type": "code",
      "source": [
        "!ls"
      ],
      "metadata": {
        "colab": {
          "base_uri": "https://localhost:8080/"
        },
        "id": "lmW8siW3q8P5",
        "outputId": "3c635dc5-47f1-4981-deee-e7b4d5982ee4"
      },
      "execution_count": 5,
      "outputs": [
        {
          "output_type": "stream",
          "name": "stdout",
          "text": [
            "cat-and-dog.zip  kaggle.json  sample_data  test_set  training_set\n"
          ]
        }
      ]
    },
    {
      "cell_type": "code",
      "source": [
        "# Import\n",
        "\n",
        "import torch\n",
        "import torch.nn as nn\n",
        "from torch.utils.data import DataLoader\n",
        "from torchvision import datasets, transforms\n",
        "from tqdm.auto import tqdm\n",
        "import time"
      ],
      "metadata": {
        "id": "gFrgVlEwqQxN"
      },
      "execution_count": 6,
      "outputs": []
    },
    {
      "cell_type": "code",
      "source": [
        "# Define transformations to apply to the images\n",
        "transform = transforms.Compose([\n",
        "    transforms.Resize((224, 224)),  # Resize the images to a consistent size\n",
        "    transforms.ToTensor(),  # Convert images to PyTorch tensors\n",
        "])"
      ],
      "metadata": {
        "id": "q5GD8igGqXFP"
      },
      "execution_count": 7,
      "outputs": []
    },
    {
      "cell_type": "code",
      "source": [
        "train_dataset = datasets.ImageFolder(\"/content/training_set/training_set/\"\n",
        "                                         , transform=transform)\n",
        "\n",
        "test_dataset = datasets.ImageFolder(\"/content/test_set/test_set/\"\n",
        "                                         , transform=transform)"
      ],
      "metadata": {
        "id": "5Z5oCTESuQbu"
      },
      "execution_count": 8,
      "outputs": []
    },
    {
      "cell_type": "code",
      "source": [
        "print(f\"Train data:\\n{train_dataset}\\nTest data:\\n{test_dataset}\")"
      ],
      "metadata": {
        "colab": {
          "base_uri": "https://localhost:8080/"
        },
        "id": "bh-FMNitusQQ",
        "outputId": "44da56e9-ee45-426b-c58e-408b147b9b6f"
      },
      "execution_count": 9,
      "outputs": [
        {
          "output_type": "stream",
          "name": "stdout",
          "text": [
            "Train data:\n",
            "Dataset ImageFolder\n",
            "    Number of datapoints: 8005\n",
            "    Root location: /content/training_set/training_set/\n",
            "    StandardTransform\n",
            "Transform: Compose(\n",
            "               Resize(size=(224, 224), interpolation=bilinear, max_size=None, antialias=True)\n",
            "               ToTensor()\n",
            "           )\n",
            "Test data:\n",
            "Dataset ImageFolder\n",
            "    Number of datapoints: 2023\n",
            "    Root location: /content/test_set/test_set/\n",
            "    StandardTransform\n",
            "Transform: Compose(\n",
            "               Resize(size=(224, 224), interpolation=bilinear, max_size=None, antialias=True)\n",
            "               ToTensor()\n",
            "           )\n"
          ]
        }
      ]
    },
    {
      "cell_type": "code",
      "source": [
        "# Get class names as a list\n",
        "class_names = train_dataset.classes\n",
        "class_names"
      ],
      "metadata": {
        "colab": {
          "base_uri": "https://localhost:8080/"
        },
        "id": "5GTk-tDsu1TR",
        "outputId": "9679d6ff-517e-4831-e064-3b4ad8dde682"
      },
      "execution_count": 10,
      "outputs": [
        {
          "output_type": "execute_result",
          "data": {
            "text/plain": [
              "['cats', 'dogs']"
            ]
          },
          "metadata": {},
          "execution_count": 10
        }
      ]
    },
    {
      "cell_type": "code",
      "source": [
        "# Can also get class names as a dict\n",
        "class_dict = train_dataset.class_to_idx\n",
        "class_dict"
      ],
      "metadata": {
        "colab": {
          "base_uri": "https://localhost:8080/"
        },
        "id": "zM3LkgJau71Y",
        "outputId": "c13e3feb-7979-47f4-840f-2818db87bef4"
      },
      "execution_count": 11,
      "outputs": [
        {
          "output_type": "execute_result",
          "data": {
            "text/plain": [
              "{'cats': 0, 'dogs': 1}"
            ]
          },
          "metadata": {},
          "execution_count": 11
        }
      ]
    },
    {
      "cell_type": "code",
      "source": [
        "# Check the lengths\n",
        "len(train_dataset), len(test_dataset)"
      ],
      "metadata": {
        "colab": {
          "base_uri": "https://localhost:8080/"
        },
        "id": "nn8MxuLHvF2c",
        "outputId": "ff99e476-a4a9-4ae2-f8d8-f522977980f1"
      },
      "execution_count": 12,
      "outputs": [
        {
          "output_type": "execute_result",
          "data": {
            "text/plain": [
              "(8005, 2023)"
            ]
          },
          "metadata": {},
          "execution_count": 12
        }
      ]
    },
    {
      "cell_type": "code",
      "source": [
        "# Define batch size for dataloader\n",
        "batch_size = 16\n",
        "\n",
        "train_dataloader = torch.utils.data.DataLoader(train_dataset, batch_size=batch_size,\n",
        "                                         shuffle=True)\n",
        "test_dataloader = torch.utils.data.DataLoader(train_dataset, batch_size=batch_size,\n",
        "                                         shuffle=False)"
      ],
      "metadata": {
        "id": "jl1pNMPXsV0K"
      },
      "execution_count": 13,
      "outputs": []
    },
    {
      "cell_type": "code",
      "source": [
        "# Get cpu, gpu or mps device for training.\n",
        "device = (\n",
        "    \"cuda\"\n",
        "    if torch.cuda.is_available()\n",
        "    else \"mps\"\n",
        "    if torch.backends.mps.is_available()\n",
        "    else \"cpu\"\n",
        ")\n",
        "device"
      ],
      "metadata": {
        "colab": {
          "base_uri": "https://localhost:8080/",
          "height": 36
        },
        "id": "Ni-YVucxsZgQ",
        "outputId": "bdd481fe-a183-472f-8e29-f76d8f132010"
      },
      "execution_count": 14,
      "outputs": [
        {
          "output_type": "execute_result",
          "data": {
            "text/plain": [
              "'cuda'"
            ],
            "application/vnd.google.colaboratory.intrinsic+json": {
              "type": "string"
            }
          },
          "metadata": {},
          "execution_count": 14
        }
      ]
    },
    {
      "cell_type": "code",
      "source": [
        "def train(dataloader, model, loss_fn, optimizer,device):\n",
        "    size = len(dataloader.dataset)\n",
        "    model.to(device)\n",
        "    model.train()\n",
        "    for batch, (X, y) in enumerate(dataloader):\n",
        "        X, y = X.to(device), y.to(device)\n",
        "\n",
        "        # Compute prediction error\n",
        "        pred = model(X)\n",
        "        loss = loss_fn(pred, y)\n",
        "\n",
        "        # Backpropagation\n",
        "        loss.backward()\n",
        "        optimizer.step()\n",
        "        optimizer.zero_grad()\n",
        "\n",
        "        if batch % 100 == 0:\n",
        "            loss, current = loss.item(), (batch + 1) * len(X)\n",
        "            print(f\"loss: {loss:>7f}  [{current:>5d}/{size:>5d}]\")"
      ],
      "metadata": {
        "id": "TJcbIBMwsb3S"
      },
      "execution_count": 15,
      "outputs": []
    },
    {
      "cell_type": "code",
      "source": [
        "def test(dataloader, model, loss_fn, device):\n",
        "    size = len(dataloader.dataset)\n",
        "    model.to(device)\n",
        "    num_batches = len(dataloader)\n",
        "    model.eval()\n",
        "    test_loss, correct = 0, 0\n",
        "    with torch.no_grad():\n",
        "        for X, y in dataloader:\n",
        "            X, y = X.to(device), y.to(device)\n",
        "            pred = model(X)\n",
        "            test_loss += loss_fn(pred, y).item()\n",
        "            correct += (pred.argmax(1) == y).type(torch.float).sum().item()\n",
        "    test_loss /= num_batches\n",
        "    correct /= size\n",
        "    print(f\"Test Error: \\n Accuracy: {(100*correct):>0.1f}%, Avg loss: {test_loss:>8f} \\n\")"
      ],
      "metadata": {
        "id": "Zf7KBg3YselT"
      },
      "execution_count": 16,
      "outputs": []
    },
    {
      "cell_type": "code",
      "source": [
        "# Create a convolutional neural network\n",
        "class CnnModel(nn.Module):\n",
        "    \"\"\"\n",
        "    Model architecture copying TinyVGG from:\n",
        "    https://poloclub.github.io/cnn-explainer/\n",
        "    \"\"\"\n",
        "    def __init__(self, input_shape: int, hidden_units: int, output_shape: int):\n",
        "        super().__init__()\n",
        "        self.block_1 = nn.Sequential(\n",
        "            nn.Conv2d(in_channels=input_shape,\n",
        "                      out_channels=hidden_units,\n",
        "                      kernel_size=3, # how big is the square that's going over the image?\n",
        "                      stride=1, # default\n",
        "                      padding=1),# options = \"valid\" (no padding) or \"same\" (output has same shape as input) or int for specific number\n",
        "            nn.ReLU(),\n",
        "            nn.Conv2d(in_channels=hidden_units,\n",
        "                      out_channels=hidden_units,\n",
        "                      kernel_size=3,\n",
        "                      stride=1,\n",
        "                      padding=1),\n",
        "            nn.ReLU(),\n",
        "            nn.MaxPool2d(kernel_size=2,\n",
        "                         stride=2) # default stride value is same as kernel_size\n",
        "        )\n",
        "        self.block_2 = nn.Sequential(\n",
        "            nn.Conv2d(hidden_units, hidden_units, 3, padding=1),\n",
        "            nn.ReLU(),\n",
        "            nn.Conv2d(hidden_units, hidden_units, 3, padding=1),\n",
        "            nn.ReLU(),\n",
        "            nn.MaxPool2d(2)\n",
        "        )\n",
        "        self.classifier = nn.Sequential(\n",
        "            nn.Flatten(),\n",
        "            nn.Linear(in_features=hidden_units*56*56,\n",
        "                      out_features=hidden_units*10*10),\n",
        "            nn.ReLU(),\n",
        "            nn.Linear(in_features=hidden_units*10*10,\n",
        "                      out_features=hidden_units*5*5),\n",
        "            nn.ReLU(),\n",
        "            nn.Linear(in_features=hidden_units*5*5,\n",
        "                      out_features=hidden_units),\n",
        "            nn.ReLU(),\n",
        "            nn.Linear(in_features=hidden_units,\n",
        "                      out_features=output_shape),\n",
        "        )\n",
        "\n",
        "    def forward(self, x: torch.Tensor):\n",
        "        x = self.block_1(x)\n",
        "        # print(x.shape)\n",
        "        x = self.block_2(x)\n",
        "        # print(x.shape)\n",
        "        x = self.classifier(x)\n",
        "        # print(x.shape)\n",
        "        return x\n",
        "\n",
        "torch.manual_seed(23)\n",
        "model = CnnModel(input_shape=3,\n",
        "    hidden_units=50,\n",
        "    output_shape=2)\n",
        "model"
      ],
      "metadata": {
        "colab": {
          "base_uri": "https://localhost:8080/"
        },
        "id": "xIo50AH_sg_i",
        "outputId": "a681b363-d281-4c79-c626-ead37fb57a45"
      },
      "execution_count": 17,
      "outputs": [
        {
          "output_type": "execute_result",
          "data": {
            "text/plain": [
              "CnnModel(\n",
              "  (block_1): Sequential(\n",
              "    (0): Conv2d(3, 50, kernel_size=(3, 3), stride=(1, 1), padding=(1, 1))\n",
              "    (1): ReLU()\n",
              "    (2): Conv2d(50, 50, kernel_size=(3, 3), stride=(1, 1), padding=(1, 1))\n",
              "    (3): ReLU()\n",
              "    (4): MaxPool2d(kernel_size=2, stride=2, padding=0, dilation=1, ceil_mode=False)\n",
              "  )\n",
              "  (block_2): Sequential(\n",
              "    (0): Conv2d(50, 50, kernel_size=(3, 3), stride=(1, 1), padding=(1, 1))\n",
              "    (1): ReLU()\n",
              "    (2): Conv2d(50, 50, kernel_size=(3, 3), stride=(1, 1), padding=(1, 1))\n",
              "    (3): ReLU()\n",
              "    (4): MaxPool2d(kernel_size=2, stride=2, padding=0, dilation=1, ceil_mode=False)\n",
              "  )\n",
              "  (classifier): Sequential(\n",
              "    (0): Flatten(start_dim=1, end_dim=-1)\n",
              "    (1): Linear(in_features=156800, out_features=5000, bias=True)\n",
              "    (2): ReLU()\n",
              "    (3): Linear(in_features=5000, out_features=1250, bias=True)\n",
              "    (4): ReLU()\n",
              "    (5): Linear(in_features=1250, out_features=50, bias=True)\n",
              "    (6): ReLU()\n",
              "    (7): Linear(in_features=50, out_features=2, bias=True)\n",
              "  )\n",
              ")"
            ]
          },
          "metadata": {},
          "execution_count": 17
        }
      ]
    },
    {
      "cell_type": "code",
      "source": [
        "# Setup loss and optimizer\n",
        "loss_fn = nn.CrossEntropyLoss()\n",
        "optimizer = torch.optim.SGD(params=model.parameters(),\n",
        "                             lr=0.1)"
      ],
      "metadata": {
        "id": "UZQBHnk-skoK"
      },
      "execution_count": 20,
      "outputs": []
    },
    {
      "cell_type": "code",
      "source": [
        "from tqdm.auto import tqdm\n",
        "import time\n",
        "start_time = time.time()\n",
        "\n",
        "\n",
        "# Train and test model\n",
        "epochs = 10\n",
        "for epoch in tqdm(range(epochs)):\n",
        "    print(f\"Epoch: {epoch}\\n---------\")\n",
        "    train(train_dataloader, model, loss_fn, optimizer,device)\n",
        "    test(test_dataloader, model, loss_fn,device)\n",
        "\n",
        "current_time = time.time()\n",
        "total = current_time - start_time\n",
        "print(\"Done!\")\n",
        "print(f'Training Took: {total/60} minutes!')"
      ],
      "metadata": {
        "colab": {
          "base_uri": "https://localhost:8080/",
          "height": 1000,
          "referenced_widgets": [
            "cf7fe2dfbf974b9c9027dcaa343f45b6",
            "7fdfa8cbfc704701949bd5fee48e45d6",
            "1592a0a948404c62b63d0895716cf2df",
            "4e7dc528472147429d12cbc45862a54b",
            "dbc18d53a21c45fb8ac37f291d716740",
            "7f4aa74bbfe84e1788c1d7062187bfa7",
            "9e10cc3607ca4f54859c45b0bb6911ee",
            "d3334dd13e49435fa6329dcec871d45b",
            "a06fea3d196c498c8ba8fd963399e289",
            "f0a730e6b481449cb467da32b8bb1efa",
            "30f2f1a146e945edbbec04c062f827ad"
          ]
        },
        "id": "XVwld4NvswOI",
        "outputId": "44d0dd6e-9ef8-42f4-bd2e-e8674b405e2b"
      },
      "execution_count": 21,
      "outputs": [
        {
          "output_type": "display_data",
          "data": {
            "text/plain": [
              "  0%|          | 0/10 [00:00<?, ?it/s]"
            ],
            "application/vnd.jupyter.widget-view+json": {
              "version_major": 2,
              "version_minor": 0,
              "model_id": "cf7fe2dfbf974b9c9027dcaa343f45b6"
            }
          },
          "metadata": {}
        },
        {
          "output_type": "stream",
          "name": "stdout",
          "text": [
            "Epoch: 0\n",
            "---------\n",
            "loss: 0.722576  [   16/ 8005]\n",
            "loss: 0.656189  [ 1616/ 8005]\n",
            "loss: 0.701804  [ 3216/ 8005]\n",
            "loss: 0.692385  [ 4816/ 8005]\n",
            "loss: 0.681277  [ 6416/ 8005]\n",
            "loss: 0.710872  [ 2505/ 8005]\n",
            "Test Error: \n",
            " Accuracy: 50.0%, Avg loss: 0.692899 \n",
            "\n",
            "Epoch: 1\n",
            "---------\n",
            "loss: 0.692049  [   16/ 8005]\n",
            "loss: 0.693737  [ 1616/ 8005]\n",
            "loss: 0.681106  [ 3216/ 8005]\n",
            "loss: 0.677982  [ 4816/ 8005]\n",
            "loss: 0.625413  [ 6416/ 8005]\n",
            "loss: 0.584397  [ 2505/ 8005]\n",
            "Test Error: \n",
            " Accuracy: 52.4%, Avg loss: 0.857881 \n",
            "\n",
            "Epoch: 2\n",
            "---------\n",
            "loss: 0.678249  [   16/ 8005]\n",
            "loss: 0.569097  [ 1616/ 8005]\n",
            "loss: 0.645868  [ 3216/ 8005]\n",
            "loss: 0.638648  [ 4816/ 8005]\n",
            "loss: 0.633703  [ 6416/ 8005]\n",
            "loss: 0.638521  [ 2505/ 8005]\n",
            "Test Error: \n",
            " Accuracy: 54.6%, Avg loss: 0.738339 \n",
            "\n",
            "Epoch: 3\n",
            "---------\n",
            "loss: 0.567963  [   16/ 8005]\n",
            "loss: 0.711774  [ 1616/ 8005]\n",
            "loss: 0.536293  [ 3216/ 8005]\n",
            "loss: 0.739800  [ 4816/ 8005]\n",
            "loss: 0.597091  [ 6416/ 8005]\n",
            "loss: 0.730390  [ 2505/ 8005]\n",
            "Test Error: \n",
            " Accuracy: 63.1%, Avg loss: 0.659658 \n",
            "\n",
            "Epoch: 4\n",
            "---------\n",
            "loss: 0.624306  [   16/ 8005]\n",
            "loss: 0.722051  [ 1616/ 8005]\n",
            "loss: 0.606155  [ 3216/ 8005]\n",
            "loss: 0.580220  [ 4816/ 8005]\n",
            "loss: 0.641255  [ 6416/ 8005]\n",
            "loss: 0.820134  [ 2505/ 8005]\n",
            "Test Error: \n",
            " Accuracy: 61.8%, Avg loss: 0.639261 \n",
            "\n",
            "Epoch: 5\n",
            "---------\n",
            "loss: 0.678549  [   16/ 8005]\n",
            "loss: 0.538035  [ 1616/ 8005]\n",
            "loss: 0.728631  [ 3216/ 8005]\n",
            "loss: 0.622187  [ 4816/ 8005]\n",
            "loss: 0.541306  [ 6416/ 8005]\n",
            "loss: 0.760377  [ 2505/ 8005]\n",
            "Test Error: \n",
            " Accuracy: 65.9%, Avg loss: 0.609365 \n",
            "\n",
            "Epoch: 6\n",
            "---------\n",
            "loss: 0.686188  [   16/ 8005]\n",
            "loss: 0.716380  [ 1616/ 8005]\n",
            "loss: 0.617653  [ 3216/ 8005]\n",
            "loss: 0.575789  [ 4816/ 8005]\n",
            "loss: 0.534918  [ 6416/ 8005]\n",
            "loss: 0.966289  [ 2505/ 8005]\n",
            "Test Error: \n",
            " Accuracy: 58.8%, Avg loss: 0.682527 \n",
            "\n",
            "Epoch: 7\n",
            "---------\n",
            "loss: 0.626220  [   16/ 8005]\n",
            "loss: 0.579156  [ 1616/ 8005]\n",
            "loss: 0.506694  [ 3216/ 8005]\n",
            "loss: 0.645764  [ 4816/ 8005]\n",
            "loss: 0.536213  [ 6416/ 8005]\n",
            "loss: 0.436195  [ 2505/ 8005]\n",
            "Test Error: \n",
            " Accuracy: 80.7%, Avg loss: 0.420580 \n",
            "\n",
            "Epoch: 8\n",
            "---------\n",
            "loss: 0.387986  [   16/ 8005]\n",
            "loss: 0.398594  [ 1616/ 8005]\n",
            "loss: 0.386775  [ 3216/ 8005]\n",
            "loss: 0.502835  [ 4816/ 8005]\n",
            "loss: 0.367117  [ 6416/ 8005]\n",
            "loss: 0.266461  [ 2505/ 8005]\n",
            "Test Error: \n",
            " Accuracy: 90.2%, Avg loss: 0.277333 \n",
            "\n",
            "Epoch: 9\n",
            "---------\n",
            "loss: 0.381462  [   16/ 8005]\n",
            "loss: 0.226152  [ 1616/ 8005]\n",
            "loss: 0.323729  [ 3216/ 8005]\n",
            "loss: 0.407534  [ 4816/ 8005]\n",
            "loss: 0.373157  [ 6416/ 8005]\n",
            "loss: 0.189088  [ 2505/ 8005]\n",
            "Test Error: \n",
            " Accuracy: 93.9%, Avg loss: 0.172435 \n",
            "\n",
            "Done!\n",
            "Training Took: 21.688188167413077 minutes!\n"
          ]
        }
      ]
    },
    {
      "cell_type": "code",
      "source": [],
      "metadata": {
        "id": "8OHkD40Js0DF"
      },
      "execution_count": null,
      "outputs": []
    }
  ]
}