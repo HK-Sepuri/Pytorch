{
  "nbformat": 4,
  "nbformat_minor": 0,
  "metadata": {
    "colab": {
      "provenance": [],
      "gpuType": "T4"
    },
    "kernelspec": {
      "name": "python3",
      "display_name": "Python 3"
    },
    "language_info": {
      "name": "python"
    },
    "accelerator": "GPU",
    "widgets": {
      "application/vnd.jupyter.widget-state+json": {
        "b767b358af694029a4b361ed985bb9e6": {
          "model_module": "@jupyter-widgets/controls",
          "model_name": "HBoxModel",
          "model_module_version": "1.5.0",
          "state": {
            "_dom_classes": [],
            "_model_module": "@jupyter-widgets/controls",
            "_model_module_version": "1.5.0",
            "_model_name": "HBoxModel",
            "_view_count": null,
            "_view_module": "@jupyter-widgets/controls",
            "_view_module_version": "1.5.0",
            "_view_name": "HBoxView",
            "box_style": "",
            "children": [
              "IPY_MODEL_db9a52943edb445bad37af64fac83f0c",
              "IPY_MODEL_82eb9cf0becf48ffbf3ef1f2c2bd6e93",
              "IPY_MODEL_82ac1ffc74ed407ca681210374790ba6"
            ],
            "layout": "IPY_MODEL_e99236dcba63402793beef32f83e2158"
          }
        },
        "db9a52943edb445bad37af64fac83f0c": {
          "model_module": "@jupyter-widgets/controls",
          "model_name": "HTMLModel",
          "model_module_version": "1.5.0",
          "state": {
            "_dom_classes": [],
            "_model_module": "@jupyter-widgets/controls",
            "_model_module_version": "1.5.0",
            "_model_name": "HTMLModel",
            "_view_count": null,
            "_view_module": "@jupyter-widgets/controls",
            "_view_module_version": "1.5.0",
            "_view_name": "HTMLView",
            "description": "",
            "description_tooltip": null,
            "layout": "IPY_MODEL_16f427e8da184d05b75602df9f24a790",
            "placeholder": "​",
            "style": "IPY_MODEL_fc2763db1b8e4a22bba49c556e12d435",
            "value": "100%"
          }
        },
        "82eb9cf0becf48ffbf3ef1f2c2bd6e93": {
          "model_module": "@jupyter-widgets/controls",
          "model_name": "FloatProgressModel",
          "model_module_version": "1.5.0",
          "state": {
            "_dom_classes": [],
            "_model_module": "@jupyter-widgets/controls",
            "_model_module_version": "1.5.0",
            "_model_name": "FloatProgressModel",
            "_view_count": null,
            "_view_module": "@jupyter-widgets/controls",
            "_view_module_version": "1.5.0",
            "_view_name": "ProgressView",
            "bar_style": "success",
            "description": "",
            "description_tooltip": null,
            "layout": "IPY_MODEL_4c4b4009c9c242e9a60e82461e3bea6b",
            "max": 5,
            "min": 0,
            "orientation": "horizontal",
            "style": "IPY_MODEL_637d5e298c744ce88e704a21410d27ae",
            "value": 5
          }
        },
        "82ac1ffc74ed407ca681210374790ba6": {
          "model_module": "@jupyter-widgets/controls",
          "model_name": "HTMLModel",
          "model_module_version": "1.5.0",
          "state": {
            "_dom_classes": [],
            "_model_module": "@jupyter-widgets/controls",
            "_model_module_version": "1.5.0",
            "_model_name": "HTMLModel",
            "_view_count": null,
            "_view_module": "@jupyter-widgets/controls",
            "_view_module_version": "1.5.0",
            "_view_name": "HTMLView",
            "description": "",
            "description_tooltip": null,
            "layout": "IPY_MODEL_649590f4df9048879cd415a3161c5897",
            "placeholder": "​",
            "style": "IPY_MODEL_8870de6d4fae49fa82783f6f55884bf9",
            "value": " 5/5 [43:14&lt;00:00, 516.49s/it]"
          }
        },
        "e99236dcba63402793beef32f83e2158": {
          "model_module": "@jupyter-widgets/base",
          "model_name": "LayoutModel",
          "model_module_version": "1.2.0",
          "state": {
            "_model_module": "@jupyter-widgets/base",
            "_model_module_version": "1.2.0",
            "_model_name": "LayoutModel",
            "_view_count": null,
            "_view_module": "@jupyter-widgets/base",
            "_view_module_version": "1.2.0",
            "_view_name": "LayoutView",
            "align_content": null,
            "align_items": null,
            "align_self": null,
            "border": null,
            "bottom": null,
            "display": null,
            "flex": null,
            "flex_flow": null,
            "grid_area": null,
            "grid_auto_columns": null,
            "grid_auto_flow": null,
            "grid_auto_rows": null,
            "grid_column": null,
            "grid_gap": null,
            "grid_row": null,
            "grid_template_areas": null,
            "grid_template_columns": null,
            "grid_template_rows": null,
            "height": null,
            "justify_content": null,
            "justify_items": null,
            "left": null,
            "margin": null,
            "max_height": null,
            "max_width": null,
            "min_height": null,
            "min_width": null,
            "object_fit": null,
            "object_position": null,
            "order": null,
            "overflow": null,
            "overflow_x": null,
            "overflow_y": null,
            "padding": null,
            "right": null,
            "top": null,
            "visibility": null,
            "width": null
          }
        },
        "16f427e8da184d05b75602df9f24a790": {
          "model_module": "@jupyter-widgets/base",
          "model_name": "LayoutModel",
          "model_module_version": "1.2.0",
          "state": {
            "_model_module": "@jupyter-widgets/base",
            "_model_module_version": "1.2.0",
            "_model_name": "LayoutModel",
            "_view_count": null,
            "_view_module": "@jupyter-widgets/base",
            "_view_module_version": "1.2.0",
            "_view_name": "LayoutView",
            "align_content": null,
            "align_items": null,
            "align_self": null,
            "border": null,
            "bottom": null,
            "display": null,
            "flex": null,
            "flex_flow": null,
            "grid_area": null,
            "grid_auto_columns": null,
            "grid_auto_flow": null,
            "grid_auto_rows": null,
            "grid_column": null,
            "grid_gap": null,
            "grid_row": null,
            "grid_template_areas": null,
            "grid_template_columns": null,
            "grid_template_rows": null,
            "height": null,
            "justify_content": null,
            "justify_items": null,
            "left": null,
            "margin": null,
            "max_height": null,
            "max_width": null,
            "min_height": null,
            "min_width": null,
            "object_fit": null,
            "object_position": null,
            "order": null,
            "overflow": null,
            "overflow_x": null,
            "overflow_y": null,
            "padding": null,
            "right": null,
            "top": null,
            "visibility": null,
            "width": null
          }
        },
        "fc2763db1b8e4a22bba49c556e12d435": {
          "model_module": "@jupyter-widgets/controls",
          "model_name": "DescriptionStyleModel",
          "model_module_version": "1.5.0",
          "state": {
            "_model_module": "@jupyter-widgets/controls",
            "_model_module_version": "1.5.0",
            "_model_name": "DescriptionStyleModel",
            "_view_count": null,
            "_view_module": "@jupyter-widgets/base",
            "_view_module_version": "1.2.0",
            "_view_name": "StyleView",
            "description_width": ""
          }
        },
        "4c4b4009c9c242e9a60e82461e3bea6b": {
          "model_module": "@jupyter-widgets/base",
          "model_name": "LayoutModel",
          "model_module_version": "1.2.0",
          "state": {
            "_model_module": "@jupyter-widgets/base",
            "_model_module_version": "1.2.0",
            "_model_name": "LayoutModel",
            "_view_count": null,
            "_view_module": "@jupyter-widgets/base",
            "_view_module_version": "1.2.0",
            "_view_name": "LayoutView",
            "align_content": null,
            "align_items": null,
            "align_self": null,
            "border": null,
            "bottom": null,
            "display": null,
            "flex": null,
            "flex_flow": null,
            "grid_area": null,
            "grid_auto_columns": null,
            "grid_auto_flow": null,
            "grid_auto_rows": null,
            "grid_column": null,
            "grid_gap": null,
            "grid_row": null,
            "grid_template_areas": null,
            "grid_template_columns": null,
            "grid_template_rows": null,
            "height": null,
            "justify_content": null,
            "justify_items": null,
            "left": null,
            "margin": null,
            "max_height": null,
            "max_width": null,
            "min_height": null,
            "min_width": null,
            "object_fit": null,
            "object_position": null,
            "order": null,
            "overflow": null,
            "overflow_x": null,
            "overflow_y": null,
            "padding": null,
            "right": null,
            "top": null,
            "visibility": null,
            "width": null
          }
        },
        "637d5e298c744ce88e704a21410d27ae": {
          "model_module": "@jupyter-widgets/controls",
          "model_name": "ProgressStyleModel",
          "model_module_version": "1.5.0",
          "state": {
            "_model_module": "@jupyter-widgets/controls",
            "_model_module_version": "1.5.0",
            "_model_name": "ProgressStyleModel",
            "_view_count": null,
            "_view_module": "@jupyter-widgets/base",
            "_view_module_version": "1.2.0",
            "_view_name": "StyleView",
            "bar_color": null,
            "description_width": ""
          }
        },
        "649590f4df9048879cd415a3161c5897": {
          "model_module": "@jupyter-widgets/base",
          "model_name": "LayoutModel",
          "model_module_version": "1.2.0",
          "state": {
            "_model_module": "@jupyter-widgets/base",
            "_model_module_version": "1.2.0",
            "_model_name": "LayoutModel",
            "_view_count": null,
            "_view_module": "@jupyter-widgets/base",
            "_view_module_version": "1.2.0",
            "_view_name": "LayoutView",
            "align_content": null,
            "align_items": null,
            "align_self": null,
            "border": null,
            "bottom": null,
            "display": null,
            "flex": null,
            "flex_flow": null,
            "grid_area": null,
            "grid_auto_columns": null,
            "grid_auto_flow": null,
            "grid_auto_rows": null,
            "grid_column": null,
            "grid_gap": null,
            "grid_row": null,
            "grid_template_areas": null,
            "grid_template_columns": null,
            "grid_template_rows": null,
            "height": null,
            "justify_content": null,
            "justify_items": null,
            "left": null,
            "margin": null,
            "max_height": null,
            "max_width": null,
            "min_height": null,
            "min_width": null,
            "object_fit": null,
            "object_position": null,
            "order": null,
            "overflow": null,
            "overflow_x": null,
            "overflow_y": null,
            "padding": null,
            "right": null,
            "top": null,
            "visibility": null,
            "width": null
          }
        },
        "8870de6d4fae49fa82783f6f55884bf9": {
          "model_module": "@jupyter-widgets/controls",
          "model_name": "DescriptionStyleModel",
          "model_module_version": "1.5.0",
          "state": {
            "_model_module": "@jupyter-widgets/controls",
            "_model_module_version": "1.5.0",
            "_model_name": "DescriptionStyleModel",
            "_view_count": null,
            "_view_module": "@jupyter-widgets/base",
            "_view_module_version": "1.2.0",
            "_view_name": "StyleView",
            "description_width": ""
          }
        }
      }
    }
  },
  "cells": [
    {
      "cell_type": "code",
      "execution_count": 1,
      "metadata": {
        "id": "n_GvSeBLAR1P"
      },
      "outputs": [],
      "source": [
        "Datasets_url = \"https://www.kaggle.com/datasets/muhammad0subhan/fruit-and-vegetable-disease-healthy-vs-rotten\""
      ]
    },
    {
      "cell_type": "code",
      "source": [
        "# Upload Kaggle json file\n",
        "!mkdir ~/.kaggle/\n",
        "!cp kaggle.json ~/.kaggle/\n",
        "!chmod 600 ~/.kaggle/kaggle.json"
      ],
      "metadata": {
        "id": "x5gbzfVXBeGL"
      },
      "execution_count": 2,
      "outputs": []
    },
    {
      "cell_type": "code",
      "source": [
        "!kaggle datasets download -d muhammad0subhan/fruit-and-vegetable-disease-healthy-vs-rotten"
      ],
      "metadata": {
        "colab": {
          "base_uri": "https://localhost:8080/"
        },
        "id": "JqHjlp2XBoqJ",
        "outputId": "58f9ab2e-2b70-4aa3-f983-6d0040a68ad2"
      },
      "execution_count": 3,
      "outputs": [
        {
          "output_type": "stream",
          "name": "stdout",
          "text": [
            "Dataset URL: https://www.kaggle.com/datasets/muhammad0subhan/fruit-and-vegetable-disease-healthy-vs-rotten\n",
            "License(s): CC0-1.0\n",
            "Downloading fruit-and-vegetable-disease-healthy-vs-rotten.zip to /content\n",
            "100% 4.77G/4.77G [00:23<00:00, 191MB/s]\n",
            "100% 4.77G/4.77G [00:23<00:00, 214MB/s]\n"
          ]
        }
      ]
    },
    {
      "cell_type": "code",
      "source": [
        "!unzip -q fruit-and-vegetable-disease-healthy-vs-rotten.zip"
      ],
      "metadata": {
        "id": "cXbmyJEZBr94"
      },
      "execution_count": 4,
      "outputs": []
    },
    {
      "cell_type": "code",
      "source": [
        "# Import\n",
        "import os\n",
        "import torch\n",
        "import torch.nn as nn\n",
        "from torch.utils.data import DataLoader, Dataset, random_split\n",
        "from torchvision import datasets, transforms, models\n",
        "from PIL import Image\n",
        "from tqdm.auto import tqdm\n",
        "import time"
      ],
      "metadata": {
        "id": "qL5mwx87CFWO"
      },
      "execution_count": 5,
      "outputs": []
    },
    {
      "cell_type": "code",
      "source": [
        "# Get cpu, gpu or mps device for training.\n",
        "device = (\n",
        "    \"cuda\"\n",
        "    if torch.cuda.is_available()\n",
        "    else \"mps\"\n",
        "    if torch.backends.mps.is_available()\n",
        "    else \"cpu\"\n",
        ")\n",
        "device"
      ],
      "metadata": {
        "colab": {
          "base_uri": "https://localhost:8080/",
          "height": 36
        },
        "id": "Jabcpi98DVnT",
        "outputId": "d366420b-dd92-4bb1-ec30-f8be8c4d5f41"
      },
      "execution_count": 6,
      "outputs": [
        {
          "output_type": "execute_result",
          "data": {
            "text/plain": [
              "'cuda'"
            ],
            "application/vnd.google.colaboratory.intrinsic+json": {
              "type": "string"
            }
          },
          "metadata": {},
          "execution_count": 6
        }
      ]
    },
    {
      "cell_type": "code",
      "source": [
        "# Define transformations (e.g., resize, normalization)\n",
        "transform = transforms.Compose([\n",
        "    transforms.Resize((255,255)),\n",
        "    transforms.ToTensor(),\n",
        "    transforms.Normalize((0.5, 0.5, 0.5), (0.5, 0.5, 0.5))\n",
        "])"
      ],
      "metadata": {
        "id": "G1rh7yJODa0U"
      },
      "execution_count": 7,
      "outputs": []
    },
    {
      "cell_type": "code",
      "source": [
        "class CustomImageDataset(Dataset):\n",
        "    def __init__(self, root_dir, transform=None):\n",
        "        self.root_dir = root_dir\n",
        "        self.transform = transform\n",
        "        self.samples = []\n",
        "\n",
        "        # Gather file paths of all images in the folders and their corresponding labels\n",
        "        for label, folder in enumerate(os.listdir(root_dir)):\n",
        "            folder_path = os.path.join(root_dir, folder)\n",
        "            if os.path.isdir(folder_path):\n",
        "                for file in os.listdir(folder_path):\n",
        "                  if file.lower().endswith(('.jpg', '.jpeg', '.png', '.bmp', '.webp')):\n",
        "                    self.samples.append((os.path.join(folder_path, file), label))\n",
        "\n",
        "    def __len__(self):\n",
        "        return len(self.samples)\n",
        "\n",
        "    def __getitem__(self, index):\n",
        "        try:\n",
        "            image_path, label = self.samples[index]\n",
        "            image = Image.open(image_path).convert('RGB')\n",
        "\n",
        "            if self.transform:\n",
        "                image = self.transform(image)\n",
        "\n",
        "            return image, label\n",
        "\n",
        "        except Exception as e:\n",
        "            # If there's an error opening or processing the image, print the error and return None\n",
        "            #print(f\"Error loading image: {image_path} - {e}\")\n",
        "            return self.__getitem__(index + 1)"
      ],
      "metadata": {
        "id": "9am5jBiiDg2y"
      },
      "execution_count": 8,
      "outputs": []
    },
    {
      "cell_type": "code",
      "source": [
        "# Instantiate custom dataset\n",
        "root_dir = '/content/Fruit And Vegetable Diseases Dataset'\n",
        "custom_dataset = CustomImageDataset(root_dir, transform=transform)"
      ],
      "metadata": {
        "id": "3f31W7czDkCI"
      },
      "execution_count": 9,
      "outputs": []
    },
    {
      "cell_type": "code",
      "source": [
        "len(custom_dataset)"
      ],
      "metadata": {
        "colab": {
          "base_uri": "https://localhost:8080/"
        },
        "id": "Hq9mbgI9DsIv",
        "outputId": "e121e231-c8a2-4e74-91d1-46c587e75037"
      },
      "execution_count": 10,
      "outputs": [
        {
          "output_type": "execute_result",
          "data": {
            "text/plain": [
              "29291"
            ]
          },
          "metadata": {},
          "execution_count": 10
        }
      ]
    },
    {
      "cell_type": "code",
      "source": [
        "custom_dataset[0]"
      ],
      "metadata": {
        "colab": {
          "base_uri": "https://localhost:8080/"
        },
        "id": "VOMaHY_kD0Gh",
        "outputId": "6158111b-5615-4079-c906-b341d8f8f1ed"
      },
      "execution_count": 11,
      "outputs": [
        {
          "output_type": "execute_result",
          "data": {
            "text/plain": [
              "(tensor([[[-0.0039, -0.0588, -0.1137,  ..., -0.6314, -0.6392, -0.6471],\n",
              "          [-0.0196, -0.0510, -0.0980,  ..., -0.6235, -0.6314, -0.6392],\n",
              "          [-0.0431, -0.0667, -0.1059,  ..., -0.6157, -0.6235, -0.6314],\n",
              "          ...,\n",
              "          [ 0.4510,  0.4745,  0.4667,  ...,  0.3020,  0.3020,  0.1686],\n",
              "          [ 0.4353,  0.4667,  0.4588,  ...,  0.2784,  0.2078,  0.1137],\n",
              "          [ 0.4275,  0.4667,  0.4667,  ...,  0.2941,  0.1686,  0.1137]],\n",
              " \n",
              "         [[ 0.0039, -0.0431, -0.0902,  ..., -0.6235, -0.6314, -0.6392],\n",
              "          [-0.0118, -0.0275, -0.0667,  ..., -0.6157, -0.6235, -0.6314],\n",
              "          [-0.0196, -0.0353, -0.0510,  ..., -0.6078, -0.6157, -0.6235],\n",
              "          ...,\n",
              "          [-0.1843, -0.1529, -0.1451,  ..., -0.1294, -0.0902, -0.2000],\n",
              "          [-0.1686, -0.1294, -0.1137,  ..., -0.1137, -0.1529, -0.2235],\n",
              "          [-0.1686, -0.1137, -0.0980,  ..., -0.0980, -0.1843, -0.2078]],\n",
              " \n",
              "         [[-0.0588, -0.1137, -0.1608,  ..., -0.6627, -0.6706, -0.6784],\n",
              "          [-0.0745, -0.0980, -0.1373,  ..., -0.6549, -0.6627, -0.6706],\n",
              "          [-0.0902, -0.1059, -0.1294,  ..., -0.6471, -0.6549, -0.6627],\n",
              "          ...,\n",
              "          [-0.3098, -0.2627, -0.2549,  ..., -0.2706, -0.2392, -0.3490],\n",
              "          [-0.2941, -0.2549, -0.2392,  ..., -0.2706, -0.3098, -0.3725],\n",
              "          [-0.2941, -0.2392, -0.2235,  ..., -0.2549, -0.3333, -0.3647]]]),\n",
              " 0)"
            ]
          },
          "metadata": {},
          "execution_count": 11
        }
      ]
    },
    {
      "cell_type": "code",
      "source": [
        "# Example usage\n",
        "sample_image, sample_label = custom_dataset[0]\n",
        "print(sample_image.shape)  # Check the shape of the image tensor\n",
        "print(sample_label)  # Check the label of the image"
      ],
      "metadata": {
        "colab": {
          "base_uri": "https://localhost:8080/"
        },
        "id": "IG3BWcjrD3tk",
        "outputId": "1d41e246-d55d-431b-b3b4-4bd908feaab6"
      },
      "execution_count": 12,
      "outputs": [
        {
          "output_type": "stream",
          "name": "stdout",
          "text": [
            "torch.Size([3, 255, 255])\n",
            "0\n"
          ]
        }
      ]
    },
    {
      "cell_type": "code",
      "source": [
        "# Define the size of the training set\n",
        "train_size = int(0.8 * len(custom_dataset))\n",
        "test_size = len(custom_dataset) - train_size"
      ],
      "metadata": {
        "id": "gTR7EXHSD67o"
      },
      "execution_count": 13,
      "outputs": []
    },
    {
      "cell_type": "code",
      "source": [
        "# Split the dataset into training and testing sets\n",
        "train_dataset, test_dataset = torch.utils.data.random_split(custom_dataset, [train_size, test_size])"
      ],
      "metadata": {
        "id": "ORVpDUfdEJy0"
      },
      "execution_count": 14,
      "outputs": []
    },
    {
      "cell_type": "code",
      "source": [
        "len(train_dataset), len(test_dataset)"
      ],
      "metadata": {
        "colab": {
          "base_uri": "https://localhost:8080/"
        },
        "id": "L30ASS1fEL86",
        "outputId": "b22a2411-7e86-4055-fd47-7012c7c35703"
      },
      "execution_count": 15,
      "outputs": [
        {
          "output_type": "execute_result",
          "data": {
            "text/plain": [
              "(23432, 5859)"
            ]
          },
          "metadata": {},
          "execution_count": 15
        }
      ]
    },
    {
      "cell_type": "code",
      "source": [
        "# Define batch size for DataLoader\n",
        "batch_size = 16\n",
        "\n",
        "# Create DataLoader for training set\n",
        "train_loader = DataLoader(train_dataset, batch_size=batch_size, shuffle=True)\n",
        "\n",
        "# Create DataLoader for testing set\n",
        "test_loader = DataLoader(test_dataset, batch_size=batch_size, shuffle=False)"
      ],
      "metadata": {
        "id": "ZV98wj1aEPkr"
      },
      "execution_count": 16,
      "outputs": []
    },
    {
      "cell_type": "code",
      "source": [
        "def train(dataloader, model, loss_fn, optimizer,device):\n",
        "    size = len(dataloader.dataset)\n",
        "    model.to(device)\n",
        "    model.train()\n",
        "    for batch, (X, y) in enumerate(dataloader):\n",
        "        X, y = X.to(device), y.to(device)\n",
        "\n",
        "        # Compute prediction error\n",
        "        pred = model(X)\n",
        "        loss = loss_fn(pred, y)\n",
        "\n",
        "        # Backpropagation\n",
        "        loss.backward()\n",
        "        optimizer.step()\n",
        "        optimizer.zero_grad()\n",
        "\n",
        "        if batch % 100 == 0:\n",
        "            loss, current = loss.item(), (batch + 1) * len(X)\n",
        "            print(f\"loss: {loss:>7f}  [{current:>5d}/{size:>5d}]\")"
      ],
      "metadata": {
        "id": "GAg66rC_ESZh"
      },
      "execution_count": 17,
      "outputs": []
    },
    {
      "cell_type": "code",
      "source": [
        "def test(dataloader, model, loss_fn, device):\n",
        "    size = len(dataloader.dataset)\n",
        "    model.to(device)\n",
        "    num_batches = len(dataloader)\n",
        "    model.eval()\n",
        "    test_loss, correct = 0, 0\n",
        "    with torch.no_grad():\n",
        "        for X, y in dataloader:\n",
        "            X, y = X.to(device), y.to(device)\n",
        "            pred = model(X)\n",
        "            test_loss += loss_fn(pred, y).item()\n",
        "            correct += (pred.argmax(1) == y).type(torch.float).sum().item()\n",
        "    test_loss /= num_batches\n",
        "    correct /= size\n",
        "    print(f\"Test Error: \\n Accuracy: {(100*correct):>0.1f}%, Avg loss: {test_loss:>8f} \\n\")"
      ],
      "metadata": {
        "id": "UFZEESNpEubi"
      },
      "execution_count": 18,
      "outputs": []
    },
    {
      "cell_type": "code",
      "source": [
        "# Create a convolutional neural network\n",
        "class CnnModel(nn.Module):\n",
        "    \"\"\"\n",
        "    Model architecture copying TinyVGG from:\n",
        "    https://poloclub.github.io/cnn-explainer/\n",
        "    \"\"\"\n",
        "    def __init__(self, input_shape: int, hidden_units: int, output_shape: int):\n",
        "        super().__init__()\n",
        "        self.block_1 = nn.Sequential(\n",
        "            nn.Conv2d(in_channels=input_shape,\n",
        "                      out_channels=hidden_units,\n",
        "                      kernel_size=3, # how big is the square that's going over the image?\n",
        "                      stride=1, # default\n",
        "                      padding=1),# options = \"valid\" (no padding) or \"same\" (output has same shape as input) or int for specific number\n",
        "            nn.ReLU(),\n",
        "            nn.Conv2d(in_channels=hidden_units,\n",
        "                      out_channels=hidden_units,\n",
        "                      kernel_size=3,\n",
        "                      stride=1,\n",
        "                      padding=1),\n",
        "            nn.ReLU(),\n",
        "            nn.MaxPool2d(kernel_size=2,\n",
        "                         stride=2),\n",
        "            nn.Dropout(0.2)\n",
        "        )\n",
        "        self.block_2 = nn.Sequential(\n",
        "            nn.Conv2d(hidden_units, hidden_units, 3, padding=1),\n",
        "            nn.ReLU(),\n",
        "            nn.Conv2d(hidden_units, hidden_units, 3, padding=1),\n",
        "            nn.ReLU(),\n",
        "            nn.MaxPool2d(2),\n",
        "            nn.Dropout(0.2)\n",
        "        )\n",
        "        self.classifier = nn.Sequential(\n",
        "            nn.Flatten(),\n",
        "            nn.Linear(in_features=198450,\n",
        "                      out_features=hidden_units*10*10),\n",
        "            nn.ReLU(),\n",
        "            nn.BatchNorm1d(hidden_units*10*10),\n",
        "            nn.Linear(in_features=hidden_units*10*10,\n",
        "                      out_features=hidden_units*5*5),\n",
        "            nn.ReLU(),\n",
        "            nn.BatchNorm1d(hidden_units*5*5),\n",
        "            nn.Linear(in_features=hidden_units*5*5,\n",
        "                      out_features=hidden_units),\n",
        "            nn.ReLU(),\n",
        "            nn.BatchNorm1d(hidden_units),\n",
        "            nn.Linear(in_features=hidden_units,\n",
        "                      out_features=output_shape),\n",
        "            nn.Softmax(dim=1)  # Add softmax layer\n",
        "        )\n",
        "\n",
        "    def forward(self, x: torch.Tensor):\n",
        "        x = self.block_1(x)\n",
        "        # print(x.shape)\n",
        "        x = self.block_2(x)\n",
        "        # print(x.shape)\n",
        "        x = self.classifier(x)\n",
        "        # print(x.shape)\n",
        "        return x\n",
        "\n",
        "torch.manual_seed(23)\n",
        "model = CnnModel(input_shape=3,\n",
        "    hidden_units=50,\n",
        "    output_shape=28)\n",
        "model"
      ],
      "metadata": {
        "colab": {
          "base_uri": "https://localhost:8080/"
        },
        "id": "t-brA7c0ExMv",
        "outputId": "3dbd9886-ceff-497e-e3de-546b79122c14"
      },
      "execution_count": 22,
      "outputs": [
        {
          "output_type": "execute_result",
          "data": {
            "text/plain": [
              "CnnModel(\n",
              "  (block_1): Sequential(\n",
              "    (0): Conv2d(3, 50, kernel_size=(3, 3), stride=(1, 1), padding=(1, 1))\n",
              "    (1): ReLU()\n",
              "    (2): Conv2d(50, 50, kernel_size=(3, 3), stride=(1, 1), padding=(1, 1))\n",
              "    (3): ReLU()\n",
              "    (4): MaxPool2d(kernel_size=2, stride=2, padding=0, dilation=1, ceil_mode=False)\n",
              "    (5): Dropout(p=0.2, inplace=False)\n",
              "  )\n",
              "  (block_2): Sequential(\n",
              "    (0): Conv2d(50, 50, kernel_size=(3, 3), stride=(1, 1), padding=(1, 1))\n",
              "    (1): ReLU()\n",
              "    (2): Conv2d(50, 50, kernel_size=(3, 3), stride=(1, 1), padding=(1, 1))\n",
              "    (3): ReLU()\n",
              "    (4): MaxPool2d(kernel_size=2, stride=2, padding=0, dilation=1, ceil_mode=False)\n",
              "    (5): Dropout(p=0.2, inplace=False)\n",
              "  )\n",
              "  (classifier): Sequential(\n",
              "    (0): Flatten(start_dim=1, end_dim=-1)\n",
              "    (1): Linear(in_features=198450, out_features=5000, bias=True)\n",
              "    (2): ReLU()\n",
              "    (3): BatchNorm1d(5000, eps=1e-05, momentum=0.1, affine=True, track_running_stats=True)\n",
              "    (4): Linear(in_features=5000, out_features=1250, bias=True)\n",
              "    (5): ReLU()\n",
              "    (6): BatchNorm1d(1250, eps=1e-05, momentum=0.1, affine=True, track_running_stats=True)\n",
              "    (7): Linear(in_features=1250, out_features=50, bias=True)\n",
              "    (8): ReLU()\n",
              "    (9): BatchNorm1d(50, eps=1e-05, momentum=0.1, affine=True, track_running_stats=True)\n",
              "    (10): Linear(in_features=50, out_features=28, bias=True)\n",
              "    (11): Softmax(dim=1)\n",
              "  )\n",
              ")"
            ]
          },
          "metadata": {},
          "execution_count": 22
        }
      ]
    },
    {
      "cell_type": "code",
      "source": [
        "# Setup loss and optimizer\n",
        "loss_fn = nn.CrossEntropyLoss()\n",
        "optimizer = torch.optim.SGD(params=model.parameters(),\n",
        "                             lr=0.05)"
      ],
      "metadata": {
        "id": "4APR78Z6FOLx"
      },
      "execution_count": 23,
      "outputs": []
    },
    {
      "cell_type": "code",
      "source": [
        "from tqdm.auto import tqdm\n",
        "import time\n",
        "start_time = time.time()\n",
        "\n",
        "\n",
        "# Train and test model\n",
        "epochs = 5\n",
        "for epoch in tqdm(range(epochs)):\n",
        "    print(f\"Epoch: {epoch}\\n---------\")\n",
        "    train(train_loader, model, loss_fn, optimizer,device)\n",
        "    test(test_loader, model, loss_fn,device)\n",
        "\n",
        "current_time = time.time()\n",
        "total = current_time - start_time\n",
        "print(\"Done!\")\n",
        "print(f'Training Took: {total/60} minutes!')"
      ],
      "metadata": {
        "colab": {
          "base_uri": "https://localhost:8080/",
          "height": 1000,
          "referenced_widgets": [
            "b767b358af694029a4b361ed985bb9e6",
            "db9a52943edb445bad37af64fac83f0c",
            "82eb9cf0becf48ffbf3ef1f2c2bd6e93",
            "82ac1ffc74ed407ca681210374790ba6",
            "e99236dcba63402793beef32f83e2158",
            "16f427e8da184d05b75602df9f24a790",
            "fc2763db1b8e4a22bba49c556e12d435",
            "4c4b4009c9c242e9a60e82461e3bea6b",
            "637d5e298c744ce88e704a21410d27ae",
            "649590f4df9048879cd415a3161c5897",
            "8870de6d4fae49fa82783f6f55884bf9"
          ]
        },
        "id": "S0oSl5z6Fe-m",
        "outputId": "dafa7d2c-3fcc-4b22-e21d-678edc76789d"
      },
      "execution_count": 24,
      "outputs": [
        {
          "output_type": "display_data",
          "data": {
            "text/plain": [
              "  0%|          | 0/5 [00:00<?, ?it/s]"
            ],
            "application/vnd.jupyter.widget-view+json": {
              "version_major": 2,
              "version_minor": 0,
              "model_id": "b767b358af694029a4b361ed985bb9e6"
            }
          },
          "metadata": {}
        },
        {
          "output_type": "stream",
          "name": "stdout",
          "text": [
            "Epoch: 0\n",
            "---------\n",
            "loss: 3.337879  [   16/23432]\n",
            "loss: 3.189659  [ 1616/23432]\n",
            "loss: 3.181325  [ 3216/23432]\n",
            "loss: 3.069927  [ 4816/23432]\n",
            "loss: 3.264855  [ 6416/23432]\n",
            "loss: 3.140426  [ 8016/23432]\n",
            "loss: 3.018093  [ 9616/23432]\n",
            "loss: 3.133760  [11216/23432]\n",
            "loss: 3.010782  [12816/23432]\n",
            "loss: 3.041294  [14416/23432]\n",
            "loss: 3.186072  [16016/23432]\n",
            "loss: 2.718027  [17616/23432]\n",
            "loss: 2.995129  [19216/23432]\n",
            "loss: 3.025258  [20816/23432]\n",
            "loss: 2.890819  [22416/23432]\n",
            "Test Error: \n",
            " Accuracy: 42.0%, Avg loss: 2.979065 \n",
            "\n",
            "Epoch: 1\n",
            "---------\n",
            "loss: 3.088448  [   16/23432]\n",
            "loss: 3.073464  [ 1616/23432]\n",
            "loss: 3.030395  [ 3216/23432]\n",
            "loss: 2.719288  [ 4816/23432]\n",
            "loss: 3.012253  [ 6416/23432]\n",
            "loss: 2.962013  [ 8016/23432]\n",
            "loss: 2.980316  [ 9616/23432]\n",
            "loss: 2.638641  [11216/23432]\n",
            "loss: 3.046119  [12816/23432]\n",
            "loss: 2.861777  [14416/23432]\n",
            "loss: 2.943599  [16016/23432]\n",
            "loss: 2.904335  [17616/23432]\n",
            "loss: 2.766748  [19216/23432]\n",
            "loss: 3.003991  [20816/23432]\n",
            "loss: 2.752727  [22416/23432]\n",
            "Test Error: \n",
            " Accuracy: 50.8%, Avg loss: 2.887602 \n",
            "\n",
            "Epoch: 2\n",
            "---------\n",
            "loss: 2.887136  [   16/23432]\n",
            "loss: 2.702161  [ 1616/23432]\n",
            "loss: 2.891011  [ 3216/23432]\n",
            "loss: 2.885420  [ 4816/23432]\n",
            "loss: 2.824146  [ 6416/23432]\n",
            "loss: 2.915705  [ 8016/23432]\n",
            "loss: 2.968444  [ 9616/23432]\n",
            "loss: 2.827096  [11216/23432]\n",
            "loss: 2.970723  [12816/23432]\n",
            "loss: 2.883629  [14416/23432]\n",
            "loss: 2.807738  [16016/23432]\n",
            "loss: 2.913333  [17616/23432]\n",
            "loss: 2.851805  [19216/23432]\n",
            "loss: 2.737054  [20816/23432]\n",
            "loss: 2.972032  [22416/23432]\n",
            "Test Error: \n",
            " Accuracy: 55.7%, Avg loss: 2.838155 \n",
            "\n",
            "Epoch: 3\n",
            "---------\n",
            "loss: 2.832931  [   16/23432]\n",
            "loss: 2.804029  [ 1616/23432]\n",
            "loss: 2.747894  [ 3216/23432]\n",
            "loss: 2.917799  [ 4816/23432]\n",
            "loss: 2.881763  [ 6416/23432]\n",
            "loss: 2.963505  [ 8016/23432]\n",
            "loss: 2.952761  [ 9616/23432]\n",
            "loss: 2.702300  [11216/23432]\n",
            "loss: 2.916275  [12816/23432]\n",
            "loss: 2.957050  [14416/23432]\n",
            "loss: 2.915884  [16016/23432]\n",
            "loss: 2.923507  [17616/23432]\n",
            "loss: 2.836451  [19216/23432]\n",
            "loss: 2.973013  [20816/23432]\n",
            "loss: 2.990935  [22416/23432]\n",
            "Test Error: \n",
            " Accuracy: 59.2%, Avg loss: 2.802342 \n",
            "\n",
            "Epoch: 4\n",
            "---------\n",
            "loss: 2.948774  [   16/23432]\n",
            "loss: 2.704125  [ 1616/23432]\n",
            "loss: 2.860453  [ 3216/23432]\n",
            "loss: 2.685760  [ 4816/23432]\n",
            "loss: 2.737737  [ 6416/23432]\n",
            "loss: 2.817350  [ 8016/23432]\n",
            "loss: 2.852204  [ 9616/23432]\n",
            "loss: 3.081140  [11216/23432]\n",
            "loss: 2.895325  [12816/23432]\n",
            "loss: 2.961965  [14416/23432]\n",
            "loss: 2.765247  [16016/23432]\n",
            "loss: 2.708751  [17616/23432]\n",
            "loss: 2.831620  [19216/23432]\n",
            "loss: 2.780904  [20816/23432]\n",
            "loss: 2.787078  [22416/23432]\n",
            "Test Error: \n",
            " Accuracy: 57.9%, Avg loss: 2.817354 \n",
            "\n",
            "Done!\n",
            "Training Took: 43.23766717513402 minutes!\n"
          ]
        }
      ]
    },
    {
      "cell_type": "code",
      "source": [],
      "metadata": {
        "id": "XBrqzJ4SFhWu"
      },
      "execution_count": null,
      "outputs": []
    }
  ]
}